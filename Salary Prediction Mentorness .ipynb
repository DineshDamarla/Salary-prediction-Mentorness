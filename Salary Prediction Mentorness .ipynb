{
 "cells": [
  {
   "cell_type": "code",
   "execution_count": 32,
   "id": "96bcb23e-55c7-4b79-b576-5ca0e47e641f",
   "metadata": {},
   "outputs": [],
   "source": [
    "import pandas as pd\n",
    "import numpy as np\n",
    "import matplotlib.pyplot as plt\n",
    "import seaborn as sns"
   ]
  },
  {
   "cell_type": "code",
   "execution_count": 30,
   "id": "0ff48cd2-71db-4af3-b7a9-4d947a156702",
   "metadata": {},
   "outputs": [
    {
     "data": {
      "text/html": [
       "<div>\n",
       "<style scoped>\n",
       "    .dataframe tbody tr th:only-of-type {\n",
       "        vertical-align: middle;\n",
       "    }\n",
       "\n",
       "    .dataframe tbody tr th {\n",
       "        vertical-align: top;\n",
       "    }\n",
       "\n",
       "    .dataframe thead th {\n",
       "        text-align: right;\n",
       "    }\n",
       "</style>\n",
       "<table border=\"1\" class=\"dataframe\">\n",
       "  <thead>\n",
       "    <tr style=\"text-align: right;\">\n",
       "      <th></th>\n",
       "      <th>FIRST NAME</th>\n",
       "      <th>LAST NAME</th>\n",
       "      <th>SEX</th>\n",
       "      <th>DOJ</th>\n",
       "      <th>CURRENT DATE</th>\n",
       "      <th>DESIGNATION</th>\n",
       "      <th>AGE</th>\n",
       "      <th>SALARY</th>\n",
       "      <th>UNIT</th>\n",
       "      <th>LEAVES USED</th>\n",
       "      <th>LEAVES REMAINING</th>\n",
       "      <th>RATINGS</th>\n",
       "      <th>PAST EXP</th>\n",
       "    </tr>\n",
       "  </thead>\n",
       "  <tbody>\n",
       "    <tr>\n",
       "      <th>0</th>\n",
       "      <td>TOMASA</td>\n",
       "      <td>ARMEN</td>\n",
       "      <td>F</td>\n",
       "      <td>5-18-2014</td>\n",
       "      <td>01-07-2016</td>\n",
       "      <td>Analyst</td>\n",
       "      <td>21.0</td>\n",
       "      <td>44570</td>\n",
       "      <td>Finance</td>\n",
       "      <td>24.0</td>\n",
       "      <td>6.0</td>\n",
       "      <td>2.0</td>\n",
       "      <td>0</td>\n",
       "    </tr>\n",
       "    <tr>\n",
       "      <th>1</th>\n",
       "      <td>ANNIE</td>\n",
       "      <td>NaN</td>\n",
       "      <td>F</td>\n",
       "      <td>NaN</td>\n",
       "      <td>01-07-2016</td>\n",
       "      <td>Associate</td>\n",
       "      <td>NaN</td>\n",
       "      <td>89207</td>\n",
       "      <td>Web</td>\n",
       "      <td>NaN</td>\n",
       "      <td>13.0</td>\n",
       "      <td>NaN</td>\n",
       "      <td>7</td>\n",
       "    </tr>\n",
       "    <tr>\n",
       "      <th>2</th>\n",
       "      <td>OLIVE</td>\n",
       "      <td>ANCY</td>\n",
       "      <td>F</td>\n",
       "      <td>7-28-2014</td>\n",
       "      <td>01-07-2016</td>\n",
       "      <td>Analyst</td>\n",
       "      <td>21.0</td>\n",
       "      <td>40955</td>\n",
       "      <td>Finance</td>\n",
       "      <td>23.0</td>\n",
       "      <td>7.0</td>\n",
       "      <td>3.0</td>\n",
       "      <td>0</td>\n",
       "    </tr>\n",
       "    <tr>\n",
       "      <th>3</th>\n",
       "      <td>CHERRY</td>\n",
       "      <td>AQUILAR</td>\n",
       "      <td>F</td>\n",
       "      <td>04-03-2013</td>\n",
       "      <td>01-07-2016</td>\n",
       "      <td>Analyst</td>\n",
       "      <td>22.0</td>\n",
       "      <td>45550</td>\n",
       "      <td>IT</td>\n",
       "      <td>22.0</td>\n",
       "      <td>8.0</td>\n",
       "      <td>3.0</td>\n",
       "      <td>0</td>\n",
       "    </tr>\n",
       "    <tr>\n",
       "      <th>4</th>\n",
       "      <td>LEON</td>\n",
       "      <td>ABOULAHOUD</td>\n",
       "      <td>M</td>\n",
       "      <td>11-20-2014</td>\n",
       "      <td>01-07-2016</td>\n",
       "      <td>Analyst</td>\n",
       "      <td>NaN</td>\n",
       "      <td>43161</td>\n",
       "      <td>Operations</td>\n",
       "      <td>27.0</td>\n",
       "      <td>3.0</td>\n",
       "      <td>NaN</td>\n",
       "      <td>3</td>\n",
       "    </tr>\n",
       "  </tbody>\n",
       "</table>\n",
       "</div>"
      ],
      "text/plain": [
       "  FIRST NAME   LAST NAME SEX         DOJ CURRENT DATE DESIGNATION   AGE  \\\n",
       "0     TOMASA       ARMEN   F   5-18-2014   01-07-2016     Analyst  21.0   \n",
       "1      ANNIE         NaN   F         NaN   01-07-2016   Associate   NaN   \n",
       "2      OLIVE        ANCY   F   7-28-2014   01-07-2016     Analyst  21.0   \n",
       "3     CHERRY     AQUILAR   F  04-03-2013   01-07-2016     Analyst  22.0   \n",
       "4       LEON  ABOULAHOUD   M  11-20-2014   01-07-2016     Analyst   NaN   \n",
       "\n",
       "   SALARY        UNIT  LEAVES USED  LEAVES REMAINING  RATINGS  PAST EXP  \n",
       "0   44570     Finance         24.0               6.0      2.0         0  \n",
       "1   89207         Web          NaN              13.0      NaN         7  \n",
       "2   40955     Finance         23.0               7.0      3.0         0  \n",
       "3   45550          IT         22.0               8.0      3.0         0  \n",
       "4   43161  Operations         27.0               3.0      NaN         3  "
      ]
     },
     "execution_count": 30,
     "metadata": {},
     "output_type": "execute_result"
    }
   ],
   "source": [
    "filename = pd.read_csv(\"D:\\Salary Prediction of Data Professions.csv\")\n",
    "filename.head()"
   ]
  },
  {
   "cell_type": "code",
   "execution_count": 6,
   "id": "f4cd1e13-a5fd-405a-ae2d-f703ea167326",
   "metadata": {},
   "outputs": [
    {
     "data": {
      "text/plain": [
       "(2639, 13)"
      ]
     },
     "execution_count": 6,
     "metadata": {},
     "output_type": "execute_result"
    }
   ],
   "source": [
    "filename.shape"
   ]
  },
  {
   "cell_type": "code",
   "execution_count": 7,
   "id": "ec5f95c1-c586-4b61-8a19-5bce24653fa8",
   "metadata": {},
   "outputs": [
    {
     "data": {
      "text/plain": [
       "Index(['FIRST NAME', 'LAST NAME', 'SEX', 'DOJ', 'CURRENT DATE', 'DESIGNATION',\n",
       "       'AGE', 'SALARY', 'UNIT', 'LEAVES USED', 'LEAVES REMAINING', 'RATINGS',\n",
       "       'PAST EXP'],\n",
       "      dtype='object')"
      ]
     },
     "execution_count": 7,
     "metadata": {},
     "output_type": "execute_result"
    }
   ],
   "source": [
    "filename.columns"
   ]
  },
  {
   "cell_type": "code",
   "execution_count": 9,
   "id": "7ab0d561-ca61-4354-9a96-df47a5f9ed0e",
   "metadata": {},
   "outputs": [
    {
     "data": {
      "text/plain": [
       "FIRST NAME           object\n",
       "LAST NAME            object\n",
       "SEX                  object\n",
       "DOJ                  object\n",
       "CURRENT DATE         object\n",
       "DESIGNATION          object\n",
       "AGE                 float64\n",
       "SALARY                int64\n",
       "UNIT                 object\n",
       "LEAVES USED         float64\n",
       "LEAVES REMAINING    float64\n",
       "RATINGS             float64\n",
       "PAST EXP              int64\n",
       "dtype: object"
      ]
     },
     "execution_count": 9,
     "metadata": {},
     "output_type": "execute_result"
    }
   ],
   "source": [
    "filename.dtypes"
   ]
  },
  {
   "cell_type": "code",
   "execution_count": 10,
   "id": "a57d99c1-ccd7-41bc-84e7-9cbf160f0d04",
   "metadata": {},
   "outputs": [
    {
     "name": "stdout",
     "output_type": "stream",
     "text": [
      "<class 'pandas.core.frame.DataFrame'>\n",
      "RangeIndex: 2639 entries, 0 to 2638\n",
      "Data columns (total 13 columns):\n",
      " #   Column            Non-Null Count  Dtype  \n",
      "---  ------            --------------  -----  \n",
      " 0   FIRST NAME        2639 non-null   object \n",
      " 1   LAST NAME         2637 non-null   object \n",
      " 2   SEX               2639 non-null   object \n",
      " 3   DOJ               2638 non-null   object \n",
      " 4   CURRENT DATE      2639 non-null   object \n",
      " 5   DESIGNATION       2639 non-null   object \n",
      " 6   AGE               2636 non-null   float64\n",
      " 7   SALARY            2639 non-null   int64  \n",
      " 8   UNIT              2639 non-null   object \n",
      " 9   LEAVES USED       2636 non-null   float64\n",
      " 10  LEAVES REMAINING  2637 non-null   float64\n",
      " 11  RATINGS           2637 non-null   float64\n",
      " 12  PAST EXP          2639 non-null   int64  \n",
      "dtypes: float64(4), int64(2), object(7)\n",
      "memory usage: 268.2+ KB\n"
     ]
    }
   ],
   "source": [
    "filename.info()"
   ]
  },
  {
   "cell_type": "code",
   "execution_count": 11,
   "id": "910b67cf-5e69-4231-a9d6-c9aa0546d4cc",
   "metadata": {},
   "outputs": [
    {
     "data": {
      "text/html": [
       "<div>\n",
       "<style scoped>\n",
       "    .dataframe tbody tr th:only-of-type {\n",
       "        vertical-align: middle;\n",
       "    }\n",
       "\n",
       "    .dataframe tbody tr th {\n",
       "        vertical-align: top;\n",
       "    }\n",
       "\n",
       "    .dataframe thead th {\n",
       "        text-align: right;\n",
       "    }\n",
       "</style>\n",
       "<table border=\"1\" class=\"dataframe\">\n",
       "  <thead>\n",
       "    <tr style=\"text-align: right;\">\n",
       "      <th></th>\n",
       "      <th>FIRST NAME</th>\n",
       "      <th>LAST NAME</th>\n",
       "      <th>SEX</th>\n",
       "      <th>DOJ</th>\n",
       "      <th>CURRENT DATE</th>\n",
       "      <th>DESIGNATION</th>\n",
       "      <th>AGE</th>\n",
       "      <th>SALARY</th>\n",
       "      <th>UNIT</th>\n",
       "      <th>LEAVES USED</th>\n",
       "      <th>LEAVES REMAINING</th>\n",
       "      <th>RATINGS</th>\n",
       "      <th>PAST EXP</th>\n",
       "    </tr>\n",
       "  </thead>\n",
       "  <tbody>\n",
       "    <tr>\n",
       "      <th>104</th>\n",
       "      <td>CARI</td>\n",
       "      <td>ARENALES</td>\n",
       "      <td>F</td>\n",
       "      <td>04-10-2014</td>\n",
       "      <td>01-07-2016</td>\n",
       "      <td>Senior Analyst</td>\n",
       "      <td>28.0</td>\n",
       "      <td>66338</td>\n",
       "      <td>Web</td>\n",
       "      <td>24.0</td>\n",
       "      <td>6.0</td>\n",
       "      <td>3.0</td>\n",
       "      <td>5</td>\n",
       "    </tr>\n",
       "    <tr>\n",
       "      <th>248</th>\n",
       "      <td>BOBBIE</td>\n",
       "      <td>AIDT</td>\n",
       "      <td>M</td>\n",
       "      <td>6-29-2013</td>\n",
       "      <td>01-07-2016</td>\n",
       "      <td>Senior Analyst</td>\n",
       "      <td>25.0</td>\n",
       "      <td>68505</td>\n",
       "      <td>Operations</td>\n",
       "      <td>15.0</td>\n",
       "      <td>15.0</td>\n",
       "      <td>3.0</td>\n",
       "      <td>1</td>\n",
       "    </tr>\n",
       "    <tr>\n",
       "      <th>400</th>\n",
       "      <td>JUAN</td>\n",
       "      <td>ABBASSI</td>\n",
       "      <td>M</td>\n",
       "      <td>07-01-2013</td>\n",
       "      <td>01-07-2016</td>\n",
       "      <td>Senior Analyst</td>\n",
       "      <td>27.0</td>\n",
       "      <td>61575</td>\n",
       "      <td>Finance</td>\n",
       "      <td>20.0</td>\n",
       "      <td>10.0</td>\n",
       "      <td>2.0</td>\n",
       "      <td>1</td>\n",
       "    </tr>\n",
       "    <tr>\n",
       "      <th>422</th>\n",
       "      <td>JODIE</td>\n",
       "      <td>ANIELLO</td>\n",
       "      <td>F</td>\n",
       "      <td>10-29-2014</td>\n",
       "      <td>01-07-2016</td>\n",
       "      <td>Analyst</td>\n",
       "      <td>24.0</td>\n",
       "      <td>43137</td>\n",
       "      <td>IT</td>\n",
       "      <td>27.0</td>\n",
       "      <td>3.0</td>\n",
       "      <td>2.0</td>\n",
       "      <td>2</td>\n",
       "    </tr>\n",
       "    <tr>\n",
       "      <th>446</th>\n",
       "      <td>ALEX</td>\n",
       "      <td>ABOLAFIA</td>\n",
       "      <td>M</td>\n",
       "      <td>11-10-2013</td>\n",
       "      <td>01-07-2016</td>\n",
       "      <td>Analyst</td>\n",
       "      <td>25.0</td>\n",
       "      <td>43352</td>\n",
       "      <td>Finance</td>\n",
       "      <td>27.0</td>\n",
       "      <td>3.0</td>\n",
       "      <td>4.0</td>\n",
       "      <td>2</td>\n",
       "    </tr>\n",
       "    <tr>\n",
       "      <th>...</th>\n",
       "      <td>...</td>\n",
       "      <td>...</td>\n",
       "      <td>...</td>\n",
       "      <td>...</td>\n",
       "      <td>...</td>\n",
       "      <td>...</td>\n",
       "      <td>...</td>\n",
       "      <td>...</td>\n",
       "      <td>...</td>\n",
       "      <td>...</td>\n",
       "      <td>...</td>\n",
       "      <td>...</td>\n",
       "      <td>...</td>\n",
       "    </tr>\n",
       "    <tr>\n",
       "      <th>2576</th>\n",
       "      <td>ROMEO</td>\n",
       "      <td>AINSLEY</td>\n",
       "      <td>M</td>\n",
       "      <td>11-20-2014</td>\n",
       "      <td>01-07-2016</td>\n",
       "      <td>Analyst</td>\n",
       "      <td>23.0</td>\n",
       "      <td>41052</td>\n",
       "      <td>IT</td>\n",
       "      <td>15.0</td>\n",
       "      <td>15.0</td>\n",
       "      <td>5.0</td>\n",
       "      <td>1</td>\n",
       "    </tr>\n",
       "    <tr>\n",
       "      <th>2591</th>\n",
       "      <td>ROYCE</td>\n",
       "      <td>AGOSTO</td>\n",
       "      <td>M</td>\n",
       "      <td>06-07-2014</td>\n",
       "      <td>01-07-2016</td>\n",
       "      <td>Analyst</td>\n",
       "      <td>24.0</td>\n",
       "      <td>48651</td>\n",
       "      <td>Web</td>\n",
       "      <td>27.0</td>\n",
       "      <td>3.0</td>\n",
       "      <td>5.0</td>\n",
       "      <td>1</td>\n",
       "    </tr>\n",
       "    <tr>\n",
       "      <th>2600</th>\n",
       "      <td>SHEREE</td>\n",
       "      <td>APPEL</td>\n",
       "      <td>F</td>\n",
       "      <td>9-24-2013</td>\n",
       "      <td>01-07-2016</td>\n",
       "      <td>Analyst</td>\n",
       "      <td>25.0</td>\n",
       "      <td>49559</td>\n",
       "      <td>Management</td>\n",
       "      <td>22.0</td>\n",
       "      <td>8.0</td>\n",
       "      <td>5.0</td>\n",
       "      <td>2</td>\n",
       "    </tr>\n",
       "    <tr>\n",
       "      <th>2624</th>\n",
       "      <td>JOSPEH</td>\n",
       "      <td>ALLIS</td>\n",
       "      <td>M</td>\n",
       "      <td>2-26-2014</td>\n",
       "      <td>01-07-2016</td>\n",
       "      <td>Analyst</td>\n",
       "      <td>22.0</td>\n",
       "      <td>45364</td>\n",
       "      <td>Web</td>\n",
       "      <td>20.0</td>\n",
       "      <td>10.0</td>\n",
       "      <td>2.0</td>\n",
       "      <td>0</td>\n",
       "    </tr>\n",
       "    <tr>\n",
       "      <th>2632</th>\n",
       "      <td>MARLENE</td>\n",
       "      <td>AMAYA</td>\n",
       "      <td>F</td>\n",
       "      <td>9-15-2014</td>\n",
       "      <td>01-07-2016</td>\n",
       "      <td>Analyst</td>\n",
       "      <td>22.0</td>\n",
       "      <td>43835</td>\n",
       "      <td>Management</td>\n",
       "      <td>26.0</td>\n",
       "      <td>4.0</td>\n",
       "      <td>4.0</td>\n",
       "      <td>0</td>\n",
       "    </tr>\n",
       "  </tbody>\n",
       "</table>\n",
       "<p>161 rows × 13 columns</p>\n",
       "</div>"
      ],
      "text/plain": [
       "     FIRST NAME LAST NAME SEX         DOJ CURRENT DATE     DESIGNATION   AGE  \\\n",
       "104        CARI  ARENALES   F  04-10-2014   01-07-2016  Senior Analyst  28.0   \n",
       "248      BOBBIE      AIDT   M   6-29-2013   01-07-2016  Senior Analyst  25.0   \n",
       "400        JUAN   ABBASSI   M  07-01-2013   01-07-2016  Senior Analyst  27.0   \n",
       "422       JODIE   ANIELLO   F  10-29-2014   01-07-2016         Analyst  24.0   \n",
       "446        ALEX  ABOLAFIA   M  11-10-2013   01-07-2016         Analyst  25.0   \n",
       "...         ...       ...  ..         ...          ...             ...   ...   \n",
       "2576      ROMEO   AINSLEY   M  11-20-2014   01-07-2016         Analyst  23.0   \n",
       "2591      ROYCE    AGOSTO   M  06-07-2014   01-07-2016         Analyst  24.0   \n",
       "2600     SHEREE     APPEL   F   9-24-2013   01-07-2016         Analyst  25.0   \n",
       "2624     JOSPEH     ALLIS   M   2-26-2014   01-07-2016         Analyst  22.0   \n",
       "2632    MARLENE     AMAYA   F   9-15-2014   01-07-2016         Analyst  22.0   \n",
       "\n",
       "      SALARY        UNIT  LEAVES USED  LEAVES REMAINING  RATINGS  PAST EXP  \n",
       "104    66338         Web         24.0               6.0      3.0         5  \n",
       "248    68505  Operations         15.0              15.0      3.0         1  \n",
       "400    61575     Finance         20.0              10.0      2.0         1  \n",
       "422    43137          IT         27.0               3.0      2.0         2  \n",
       "446    43352     Finance         27.0               3.0      4.0         2  \n",
       "...      ...         ...          ...               ...      ...       ...  \n",
       "2576   41052          IT         15.0              15.0      5.0         1  \n",
       "2591   48651         Web         27.0               3.0      5.0         1  \n",
       "2600   49559  Management         22.0               8.0      5.0         2  \n",
       "2624   45364         Web         20.0              10.0      2.0         0  \n",
       "2632   43835  Management         26.0               4.0      4.0         0  \n",
       "\n",
       "[161 rows x 13 columns]"
      ]
     },
     "execution_count": 11,
     "metadata": {},
     "output_type": "execute_result"
    }
   ],
   "source": [
    "filename[filename.duplicated()]"
   ]
  },
  {
   "cell_type": "code",
   "execution_count": 12,
   "id": "3531a71e-5af2-4a81-84b3-3ec6ac1a6a60",
   "metadata": {},
   "outputs": [
    {
     "data": {
      "text/plain": [
       "(161, 13)"
      ]
     },
     "execution_count": 12,
     "metadata": {},
     "output_type": "execute_result"
    }
   ],
   "source": [
    "filename[filename.duplicated()].shape"
   ]
  },
  {
   "cell_type": "code",
   "execution_count": 13,
   "id": "6b9d9fc5-95a4-4db7-b895-c4b309513b9f",
   "metadata": {},
   "outputs": [
    {
     "data": {
      "text/plain": [
       "(2478, 13)"
      ]
     },
     "execution_count": 13,
     "metadata": {},
     "output_type": "execute_result"
    }
   ],
   "source": [
    "filename1 = filename.drop_duplicates(keep = 'first')\n",
    "filename1.shape"
   ]
  },
  {
   "cell_type": "code",
   "execution_count": 187,
   "id": "7d42fb5a-d8d5-44d3-9503-7e6ecd5a8c17",
   "metadata": {},
   "outputs": [],
   "source": [
    "filename1 = filename.drop(['FIRST NAME', 'LAST NAME', 'DOJ', 'CURRENT DATE'], axis = 1)"
   ]
  },
  {
   "cell_type": "code",
   "execution_count": 188,
   "id": "a4999369-8bf8-46b0-9728-53c8e9d5c7ef",
   "metadata": {},
   "outputs": [
    {
     "data": {
      "text/plain": [
       "(2639, 9)"
      ]
     },
     "execution_count": 188,
     "metadata": {},
     "output_type": "execute_result"
    }
   ],
   "source": [
    "filename1.shape"
   ]
  },
  {
   "cell_type": "code",
   "execution_count": 14,
   "id": "f13a8782-88ba-4183-9832-d52dae3e53af",
   "metadata": {},
   "outputs": [
    {
     "data": {
      "text/plain": [
       "FIRST NAME          0\n",
       "LAST NAME           2\n",
       "SEX                 0\n",
       "DOJ                 1\n",
       "CURRENT DATE        0\n",
       "DESIGNATION         0\n",
       "AGE                 3\n",
       "SALARY              0\n",
       "UNIT                0\n",
       "LEAVES USED         3\n",
       "LEAVES REMAINING    2\n",
       "RATINGS             2\n",
       "PAST EXP            0\n",
       "dtype: int64"
      ]
     },
     "execution_count": 14,
     "metadata": {},
     "output_type": "execute_result"
    }
   ],
   "source": [
    "filename1.isnull().sum()"
   ]
  },
  {
   "cell_type": "code",
   "execution_count": 190,
   "id": "23039ebc-4849-4c62-9952-d820a82bb372",
   "metadata": {},
   "outputs": [],
   "source": [
    "filename1.dropna(how = 'any', inplace=True)"
   ]
  },
  {
   "cell_type": "code",
   "execution_count": 193,
   "id": "e4bb7a3e-eb27-4c75-a620-d4862dbf6c21",
   "metadata": {},
   "outputs": [
    {
     "data": {
      "text/plain": [
       "(2632, 9)"
      ]
     },
     "execution_count": 193,
     "metadata": {},
     "output_type": "execute_result"
    }
   ],
   "source": [
    "filename1.shape"
   ]
  },
  {
   "cell_type": "code",
   "execution_count": 191,
   "id": "7c60dfcb-8bdd-4e0d-b4c5-c02d1c5d22f2",
   "metadata": {},
   "outputs": [
    {
     "data": {
      "text/html": [
       "<div>\n",
       "<style scoped>\n",
       "    .dataframe tbody tr th:only-of-type {\n",
       "        vertical-align: middle;\n",
       "    }\n",
       "\n",
       "    .dataframe tbody tr th {\n",
       "        vertical-align: top;\n",
       "    }\n",
       "\n",
       "    .dataframe thead th {\n",
       "        text-align: right;\n",
       "    }\n",
       "</style>\n",
       "<table border=\"1\" class=\"dataframe\">\n",
       "  <thead>\n",
       "    <tr style=\"text-align: right;\">\n",
       "      <th></th>\n",
       "      <th>SEX</th>\n",
       "      <th>DESIGNATION</th>\n",
       "      <th>AGE</th>\n",
       "      <th>SALARY</th>\n",
       "      <th>UNIT</th>\n",
       "      <th>LEAVES USED</th>\n",
       "      <th>LEAVES REMAINING</th>\n",
       "      <th>RATINGS</th>\n",
       "      <th>PAST EXP</th>\n",
       "    </tr>\n",
       "  </thead>\n",
       "  <tbody>\n",
       "    <tr>\n",
       "      <th>0</th>\n",
       "      <td>F</td>\n",
       "      <td>Analyst</td>\n",
       "      <td>21.0</td>\n",
       "      <td>44570</td>\n",
       "      <td>Finance</td>\n",
       "      <td>24.0</td>\n",
       "      <td>6.0</td>\n",
       "      <td>2.0</td>\n",
       "      <td>0</td>\n",
       "    </tr>\n",
       "    <tr>\n",
       "      <th>2</th>\n",
       "      <td>F</td>\n",
       "      <td>Analyst</td>\n",
       "      <td>21.0</td>\n",
       "      <td>40955</td>\n",
       "      <td>Finance</td>\n",
       "      <td>23.0</td>\n",
       "      <td>7.0</td>\n",
       "      <td>3.0</td>\n",
       "      <td>0</td>\n",
       "    </tr>\n",
       "    <tr>\n",
       "      <th>3</th>\n",
       "      <td>F</td>\n",
       "      <td>Analyst</td>\n",
       "      <td>22.0</td>\n",
       "      <td>45550</td>\n",
       "      <td>IT</td>\n",
       "      <td>22.0</td>\n",
       "      <td>8.0</td>\n",
       "      <td>3.0</td>\n",
       "      <td>0</td>\n",
       "    </tr>\n",
       "    <tr>\n",
       "      <th>5</th>\n",
       "      <td>F</td>\n",
       "      <td>Analyst</td>\n",
       "      <td>22.0</td>\n",
       "      <td>48736</td>\n",
       "      <td>Marketing</td>\n",
       "      <td>20.0</td>\n",
       "      <td>10.0</td>\n",
       "      <td>4.0</td>\n",
       "      <td>0</td>\n",
       "    </tr>\n",
       "    <tr>\n",
       "      <th>6</th>\n",
       "      <td>M</td>\n",
       "      <td>Analyst</td>\n",
       "      <td>22.0</td>\n",
       "      <td>40339</td>\n",
       "      <td>Marketing</td>\n",
       "      <td>19.0</td>\n",
       "      <td>11.0</td>\n",
       "      <td>5.0</td>\n",
       "      <td>0</td>\n",
       "    </tr>\n",
       "  </tbody>\n",
       "</table>\n",
       "</div>"
      ],
      "text/plain": [
       "  SEX DESIGNATION   AGE  SALARY       UNIT  LEAVES USED  LEAVES REMAINING  \\\n",
       "0   F     Analyst  21.0   44570    Finance         24.0               6.0   \n",
       "2   F     Analyst  21.0   40955    Finance         23.0               7.0   \n",
       "3   F     Analyst  22.0   45550         IT         22.0               8.0   \n",
       "5   F     Analyst  22.0   48736  Marketing         20.0              10.0   \n",
       "6   M     Analyst  22.0   40339  Marketing         19.0              11.0   \n",
       "\n",
       "   RATINGS  PAST EXP  \n",
       "0      2.0         0  \n",
       "2      3.0         0  \n",
       "3      3.0         0  \n",
       "5      4.0         0  \n",
       "6      5.0         0  "
      ]
     },
     "execution_count": 191,
     "metadata": {},
     "output_type": "execute_result"
    }
   ],
   "source": [
    "filename1.head()"
   ]
  },
  {
   "cell_type": "code",
   "execution_count": 22,
   "id": "9d130ac2-231e-4166-be9f-c43649ec0782",
   "metadata": {},
   "outputs": [],
   "source": [
    "#Data Exploration and visualization:"
   ]
  },
  {
   "cell_type": "code",
   "execution_count": 24,
   "id": "d7358f89-64d0-45c4-9f28-504ac6fb7543",
   "metadata": {},
   "outputs": [
    {
     "data": {
      "text/html": [
       "<div>\n",
       "<style scoped>\n",
       "    .dataframe tbody tr th:only-of-type {\n",
       "        vertical-align: middle;\n",
       "    }\n",
       "\n",
       "    .dataframe tbody tr th {\n",
       "        vertical-align: top;\n",
       "    }\n",
       "\n",
       "    .dataframe thead th {\n",
       "        text-align: right;\n",
       "    }\n",
       "</style>\n",
       "<table border=\"1\" class=\"dataframe\">\n",
       "  <thead>\n",
       "    <tr style=\"text-align: right;\">\n",
       "      <th></th>\n",
       "      <th>AGE</th>\n",
       "      <th>SALARY</th>\n",
       "      <th>LEAVES USED</th>\n",
       "      <th>LEAVES REMAINING</th>\n",
       "      <th>RATINGS</th>\n",
       "      <th>PAST EXP</th>\n",
       "    </tr>\n",
       "  </thead>\n",
       "  <tbody>\n",
       "    <tr>\n",
       "      <th>count</th>\n",
       "      <td>2470.000000</td>\n",
       "      <td>2470.000000</td>\n",
       "      <td>2470.000000</td>\n",
       "      <td>2470.000000</td>\n",
       "      <td>2470.000000</td>\n",
       "      <td>2470.000000</td>\n",
       "    </tr>\n",
       "    <tr>\n",
       "      <th>mean</th>\n",
       "      <td>24.725506</td>\n",
       "      <td>58055.764777</td>\n",
       "      <td>22.490688</td>\n",
       "      <td>7.509312</td>\n",
       "      <td>3.482186</td>\n",
       "      <td>1.555870</td>\n",
       "    </tr>\n",
       "    <tr>\n",
       "      <th>std</th>\n",
       "      <td>3.908838</td>\n",
       "      <td>36776.484770</td>\n",
       "      <td>4.597236</td>\n",
       "      <td>4.597236</td>\n",
       "      <td>1.115217</td>\n",
       "      <td>2.703656</td>\n",
       "    </tr>\n",
       "    <tr>\n",
       "      <th>min</th>\n",
       "      <td>21.000000</td>\n",
       "      <td>40001.000000</td>\n",
       "      <td>15.000000</td>\n",
       "      <td>0.000000</td>\n",
       "      <td>2.000000</td>\n",
       "      <td>0.000000</td>\n",
       "    </tr>\n",
       "    <tr>\n",
       "      <th>25%</th>\n",
       "      <td>22.000000</td>\n",
       "      <td>43401.250000</td>\n",
       "      <td>19.000000</td>\n",
       "      <td>4.000000</td>\n",
       "      <td>2.000000</td>\n",
       "      <td>0.000000</td>\n",
       "    </tr>\n",
       "    <tr>\n",
       "      <th>50%</th>\n",
       "      <td>24.000000</td>\n",
       "      <td>46737.500000</td>\n",
       "      <td>22.000000</td>\n",
       "      <td>8.000000</td>\n",
       "      <td>3.000000</td>\n",
       "      <td>1.000000</td>\n",
       "    </tr>\n",
       "    <tr>\n",
       "      <th>75%</th>\n",
       "      <td>25.000000</td>\n",
       "      <td>50323.750000</td>\n",
       "      <td>26.000000</td>\n",
       "      <td>11.000000</td>\n",
       "      <td>4.000000</td>\n",
       "      <td>2.000000</td>\n",
       "    </tr>\n",
       "    <tr>\n",
       "      <th>max</th>\n",
       "      <td>45.000000</td>\n",
       "      <td>388112.000000</td>\n",
       "      <td>30.000000</td>\n",
       "      <td>15.000000</td>\n",
       "      <td>5.000000</td>\n",
       "      <td>23.000000</td>\n",
       "    </tr>\n",
       "  </tbody>\n",
       "</table>\n",
       "</div>"
      ],
      "text/plain": [
       "               AGE         SALARY  LEAVES USED  LEAVES REMAINING      RATINGS  \\\n",
       "count  2470.000000    2470.000000  2470.000000       2470.000000  2470.000000   \n",
       "mean     24.725506   58055.764777    22.490688          7.509312     3.482186   \n",
       "std       3.908838   36776.484770     4.597236          4.597236     1.115217   \n",
       "min      21.000000   40001.000000    15.000000          0.000000     2.000000   \n",
       "25%      22.000000   43401.250000    19.000000          4.000000     2.000000   \n",
       "50%      24.000000   46737.500000    22.000000          8.000000     3.000000   \n",
       "75%      25.000000   50323.750000    26.000000         11.000000     4.000000   \n",
       "max      45.000000  388112.000000    30.000000         15.000000     5.000000   \n",
       "\n",
       "          PAST EXP  \n",
       "count  2470.000000  \n",
       "mean      1.555870  \n",
       "std       2.703656  \n",
       "min       0.000000  \n",
       "25%       0.000000  \n",
       "50%       1.000000  \n",
       "75%       2.000000  \n",
       "max      23.000000  "
      ]
     },
     "execution_count": 24,
     "metadata": {},
     "output_type": "execute_result"
    }
   ],
   "source": [
    "filename1.describe()"
   ]
  },
  {
   "cell_type": "code",
   "execution_count": 27,
   "id": "45c52657-8b16-4188-b42d-2d57f040404d",
   "metadata": {},
   "outputs": [
    {
     "data": {
      "text/html": [
       "<div>\n",
       "<style scoped>\n",
       "    .dataframe tbody tr th:only-of-type {\n",
       "        vertical-align: middle;\n",
       "    }\n",
       "\n",
       "    .dataframe tbody tr th {\n",
       "        vertical-align: top;\n",
       "    }\n",
       "\n",
       "    .dataframe thead th {\n",
       "        text-align: right;\n",
       "    }\n",
       "</style>\n",
       "<table border=\"1\" class=\"dataframe\">\n",
       "  <thead>\n",
       "    <tr style=\"text-align: right;\">\n",
       "      <th></th>\n",
       "      <th>AGE</th>\n",
       "      <th>SALARY</th>\n",
       "      <th>LEAVES USED</th>\n",
       "      <th>LEAVES REMAINING</th>\n",
       "      <th>RATINGS</th>\n",
       "      <th>PAST EXP</th>\n",
       "    </tr>\n",
       "  </thead>\n",
       "  <tbody>\n",
       "    <tr>\n",
       "      <th>AGE</th>\n",
       "      <td>1.000000</td>\n",
       "      <td>0.869357</td>\n",
       "      <td>0.004794</td>\n",
       "      <td>-0.004794</td>\n",
       "      <td>0.033534</td>\n",
       "      <td>0.903694</td>\n",
       "    </tr>\n",
       "    <tr>\n",
       "      <th>SALARY</th>\n",
       "      <td>0.869357</td>\n",
       "      <td>1.000000</td>\n",
       "      <td>0.004596</td>\n",
       "      <td>-0.004596</td>\n",
       "      <td>0.016123</td>\n",
       "      <td>0.851026</td>\n",
       "    </tr>\n",
       "    <tr>\n",
       "      <th>LEAVES USED</th>\n",
       "      <td>0.004794</td>\n",
       "      <td>0.004596</td>\n",
       "      <td>1.000000</td>\n",
       "      <td>-1.000000</td>\n",
       "      <td>0.004866</td>\n",
       "      <td>0.003854</td>\n",
       "    </tr>\n",
       "    <tr>\n",
       "      <th>LEAVES REMAINING</th>\n",
       "      <td>-0.004794</td>\n",
       "      <td>-0.004596</td>\n",
       "      <td>-1.000000</td>\n",
       "      <td>1.000000</td>\n",
       "      <td>-0.004866</td>\n",
       "      <td>-0.003854</td>\n",
       "    </tr>\n",
       "    <tr>\n",
       "      <th>RATINGS</th>\n",
       "      <td>0.033534</td>\n",
       "      <td>0.016123</td>\n",
       "      <td>0.004866</td>\n",
       "      <td>-0.004866</td>\n",
       "      <td>1.000000</td>\n",
       "      <td>0.036397</td>\n",
       "    </tr>\n",
       "    <tr>\n",
       "      <th>PAST EXP</th>\n",
       "      <td>0.903694</td>\n",
       "      <td>0.851026</td>\n",
       "      <td>0.003854</td>\n",
       "      <td>-0.003854</td>\n",
       "      <td>0.036397</td>\n",
       "      <td>1.000000</td>\n",
       "    </tr>\n",
       "  </tbody>\n",
       "</table>\n",
       "</div>"
      ],
      "text/plain": [
       "                       AGE    SALARY  LEAVES USED  LEAVES REMAINING   RATINGS  \\\n",
       "AGE               1.000000  0.869357     0.004794         -0.004794  0.033534   \n",
       "SALARY            0.869357  1.000000     0.004596         -0.004596  0.016123   \n",
       "LEAVES USED       0.004794  0.004596     1.000000         -1.000000  0.004866   \n",
       "LEAVES REMAINING -0.004794 -0.004596    -1.000000          1.000000 -0.004866   \n",
       "RATINGS           0.033534  0.016123     0.004866         -0.004866  1.000000   \n",
       "PAST EXP          0.903694  0.851026     0.003854         -0.003854  0.036397   \n",
       "\n",
       "                  PAST EXP  \n",
       "AGE               0.903694  \n",
       "SALARY            0.851026  \n",
       "LEAVES USED       0.003854  \n",
       "LEAVES REMAINING -0.003854  \n",
       "RATINGS           0.036397  \n",
       "PAST EXP          1.000000  "
      ]
     },
     "execution_count": 27,
     "metadata": {},
     "output_type": "execute_result"
    }
   ],
   "source": [
    "corr = filename1[['AGE', 'SALARY','LEAVES USED', 'LEAVES REMAINING', 'RATINGS','PAST EXP']].corr()\n",
    "corr"
   ]
  },
  {
   "cell_type": "code",
   "execution_count": 33,
   "id": "b38cb0d8-f1c2-4ed1-a080-7dfe35a9da0a",
   "metadata": {},
   "outputs": [
    {
     "data": {
      "text/plain": [
       "<Axes: >"
      ]
     },
     "execution_count": 33,
     "metadata": {},
     "output_type": "execute_result"
    },
    {
     "data": {
      "image/png": "[encoded data removed]",
      "text/plain": [
       "<Figure size 640x480 with 2 Axes>"
      ]
     },
     "metadata": {},
     "output_type": "display_data"
    }
   ],
   "source": [
    "sns.heatmap(corr,annot = True)"
   ]
  },
  {
   "cell_type": "code",
   "execution_count": 34,
   "id": "8b1ada57-6b5c-4c99-b753-e7d7f468e5c1",
   "metadata": {},
   "outputs": [],
   "source": [
    "#Data visualization-bar chart, box plot, histogram"
   ]
  },
  {
   "cell_type": "code",
   "execution_count": 36,
   "id": "6474b9d2-d295-4610-84a2-e27bbb9c9654",
   "metadata": {},
   "outputs": [
    {
     "data": {
      "text/plain": [
       "DESIGNATION\n",
       "Analyst           1848\n",
       "Senior Analyst     301\n",
       "Associate          155\n",
       "Manager             79\n",
       "Senior Manager      60\n",
       "Director            27\n",
       "Name: count, dtype: int64"
      ]
     },
     "execution_count": 36,
     "metadata": {},
     "output_type": "execute_result"
    }
   ],
   "source": [
    "filename1['DESIGNATION'].value_counts()"
   ]
  },
  {
   "cell_type": "code",
   "execution_count": 169,
   "id": "3381b1ec-f88f-4c01-b5b6-ea93c159d4ee",
   "metadata": {},
   "outputs": [
    {
     "data": {
      "text/plain": [
       "<Axes: ylabel='count'>"
      ]
     },
     "execution_count": 169,
     "metadata": {},
     "output_type": "execute_result"
    },
    {
     "data": {
      "image/png": "[encoded data removed]",
      "text/plain": [
       "<Figure size 640x480 with 1 Axes>"
      ]
     },
     "metadata": {},
     "output_type": "display_data"
    }
   ],
   "source": [
    "filename1['DESIGNATION'].value_counts().plot(kind = 'pie')"
   ]
  },
  {
   "cell_type": "code",
   "execution_count": 38,
   "id": "1bf18a15-0e2a-416a-9c5c-8000d489dc90",
   "metadata": {},
   "outputs": [
    {
     "data": {
      "text/plain": [
       "SEX\n",
       "F    1255\n",
       "M    1215\n",
       "Name: count, dtype: int64"
      ]
     },
     "execution_count": 38,
     "metadata": {},
     "output_type": "execute_result"
    }
   ],
   "source": [
    "filename1['SEX'].value_counts()"
   ]
  },
  {
   "cell_type": "code",
   "execution_count": 171,
   "id": "fa4a58a3-1fa4-40f0-9c2c-c32df7c31266",
   "metadata": {},
   "outputs": [
    {
     "data": {
      "text/plain": [
       "<Axes: xlabel='SEX'>"
      ]
     },
     "execution_count": 171,
     "metadata": {},
     "output_type": "execute_result"
    },
    {
     "data": {
      "image/png": "[encoded data removed]",
      "text/plain": [
       "<Figure size 640x480 with 1 Axes>"
      ]
     },
     "metadata": {},
     "output_type": "display_data"
    }
   ],
   "source": [
    "filename1['SEX'].value_counts().plot(kind ='bar')"
   ]
  },
  {
   "cell_type": "code",
   "execution_count": 133,
   "id": "811f0945-3ff7-4823-b779-fd6383507301",
   "metadata": {},
   "outputs": [
    {
     "data": {
      "text/plain": [
       "AGE\n",
       "25.0    442\n",
       "22.0    403\n",
       "24.0    372\n",
       "23.0    372\n",
       "21.0    345\n",
       "28.0    118\n",
       "26.0     75\n",
       "32.0     61\n",
       "27.0     56\n",
       "29.0     33\n",
       "35.0     32\n",
       "31.0     27\n",
       "30.0     25\n",
       "33.0     20\n",
       "34.0     18\n",
       "39.0     15\n",
       "36.0     12\n",
       "37.0     11\n",
       "38.0     10\n",
       "40.0      6\n",
       "41.0      4\n",
       "42.0      4\n",
       "45.0      4\n",
       "43.0      3\n",
       "44.0      2\n",
       "Name: count, dtype: int64"
      ]
     },
     "execution_count": 133,
     "metadata": {},
     "output_type": "execute_result"
    }
   ],
   "source": [
    "filename1['AGE'].value_counts()"
   ]
  },
  {
   "cell_type": "code",
   "execution_count": 146,
   "id": "193fdc40-7815-4347-8321-953e591e2ccf",
   "metadata": {},
   "outputs": [
    {
     "data": {
      "text/plain": [
       "<Axes: ylabel='Frequency'>"
      ]
     },
     "execution_count": 146,
     "metadata": {},
     "output_type": "execute_result"
    },
    {
     "data": {
      "image/png": "[encoded data removed]",
      "text/plain": [
       "<Figure size 640x480 with 1 Axes>"
      ]
     },
     "metadata": {},
     "output_type": "display_data"
    }
   ],
   "source": [
    "filename1['AGE'].plot(kind = 'hist')"
   ]
  },
  {
   "cell_type": "code",
   "execution_count": 131,
   "id": "c967b3c6-6baa-4a05-af2a-69f1ba6672dc",
   "metadata": {},
   "outputs": [
    {
     "data": {
      "text/plain": [
       "PAST EXP\n",
       "0     1225\n",
       "1      460\n",
       "2      339\n",
       "3      152\n",
       "5       51\n",
       "4       51\n",
       "6       46\n",
       "8       27\n",
       "7       25\n",
       "10      20\n",
       "11      17\n",
       "9       16\n",
       "12      10\n",
       "13      10\n",
       "17       5\n",
       "15       5\n",
       "14       4\n",
       "16       3\n",
       "18       2\n",
       "19       1\n",
       "20       1\n",
       "Name: count, dtype: int64"
      ]
     },
     "execution_count": 131,
     "metadata": {},
     "output_type": "execute_result"
    }
   ],
   "source": [
    "filename1['PAST EXP'].value_counts()"
   ]
  },
  {
   "cell_type": "code",
   "execution_count": 80,
   "id": "d7251375-6965-4d5d-99f5-7385ee872340",
   "metadata": {},
   "outputs": [
    {
     "data": {
      "text/plain": [
       "<Axes: xlabel='PAST EXP'>"
      ]
     },
     "execution_count": 80,
     "metadata": {},
     "output_type": "execute_result"
    },
    {
     "data": {
      "image/png": "[encoded data removed]",
      "text/plain": [
       "<Figure size 640x480 with 1 Axes>"
      ]
     },
     "metadata": {},
     "output_type": "display_data"
    }
   ],
   "source": [
    "filename1['PAST EXP'].value_counts().plot(kind ='bar')"
   ]
  },
  {
   "cell_type": "code",
   "execution_count": 65,
   "id": "81fe4238-2c61-47da-bdcc-d4adbe6c3a83",
   "metadata": {},
   "outputs": [
    {
     "data": {
      "text/plain": [
       "SALARY\n",
       "43681    3\n",
       "48587    3\n",
       "40403    3\n",
       "48976    3\n",
       "44448    3\n",
       "        ..\n",
       "57997    1\n",
       "40331    1\n",
       "47178    1\n",
       "41609    1\n",
       "49176    1\n",
       "Name: count, Length: 2299, dtype: int64"
      ]
     },
     "execution_count": 65,
     "metadata": {},
     "output_type": "execute_result"
    }
   ],
   "source": [
    "filename1['SALARY'].value_counts()"
   ]
  },
  {
   "cell_type": "code",
   "execution_count": 174,
   "id": "985974d7-ae8d-401e-8ad6-4b8cef65e0b7",
   "metadata": {
    "scrolled": true
   },
   "outputs": [
    {
     "data": {
      "text/plain": [
       "<Axes: ylabel='Frequency'>"
      ]
     },
     "execution_count": 174,
     "metadata": {},
     "output_type": "execute_result"
    },
    {
     "data": {
      "image/png": "[encoded data removed]",
      "text/plain": [
       "<Figure size 640x480 with 1 Axes>"
      ]
     },
     "metadata": {},
     "output_type": "display_data"
    }
   ],
   "source": [
    "filename1['SALARY'].plot(kind = 'hist')"
   ]
  },
  {
   "cell_type": "code",
   "execution_count": 159,
   "id": "7df011b2-6ce1-4b30-a7ba-a8bc57d8ce64",
   "metadata": {},
   "outputs": [
    {
     "data": {
      "text/plain": [
       "<Axes: ylabel='LEAVES USED'>"
      ]
     },
     "execution_count": 159,
     "metadata": {},
     "output_type": "execute_result"
    },
    {
     "data": {
      "image/png": "[encoded data removed]",
      "text/plain": [
       "<Figure size 640x480 with 1 Axes>"
      ]
     },
     "metadata": {},
     "output_type": "display_data"
    }
   ],
   "source": [
    "filename1['LEAVES USED'].value_counts().plot(kind ='barh')"
   ]
  },
  {
   "cell_type": "code",
   "execution_count": 158,
   "id": "d16e0ba0-d931-4488-8296-254f9301bd9d",
   "metadata": {},
   "outputs": [
    {
     "data": {
      "text/plain": [
       "LEAVES REMAINING\n",
       "11.0    176\n",
       "5.0     169\n",
       "1.0     166\n",
       "8.0     161\n",
       "2.0     161\n",
       "4.0     161\n",
       "15.0    154\n",
       "12.0    154\n",
       "14.0    153\n",
       "6.0     150\n",
       "9.0     149\n",
       "13.0    149\n",
       "10.0    147\n",
       "3.0     142\n",
       "7.0     139\n",
       "0.0     139\n",
       "Name: count, dtype: int64"
      ]
     },
     "execution_count": 158,
     "metadata": {},
     "output_type": "execute_result"
    }
   ],
   "source": [
    "filename1['LEAVES REMAINING'].value_counts()"
   ]
  },
  {
   "cell_type": "code",
   "execution_count": 160,
   "id": "7da6fa57-fe13-4f3a-ad66-85c7cbb0506a",
   "metadata": {},
   "outputs": [
    {
     "data": {
      "text/plain": [
       "<Axes: ylabel='LEAVES REMAINING'>"
      ]
     },
     "execution_count": 160,
     "metadata": {},
     "output_type": "execute_result"
    },
    {
     "data": {
      "image/png": "[encoded data removed]",
      "text/plain": [
       "<Figure size 640x480 with 1 Axes>"
      ]
     },
     "metadata": {},
     "output_type": "display_data"
    }
   ],
   "source": [
    "filename1['LEAVES REMAINING'].value_counts().plot(kind ='barh')"
   ]
  },
  {
   "cell_type": "code",
   "execution_count": 166,
   "id": "22136376-62bf-41c7-8e87-73c4de7b6900",
   "metadata": {},
   "outputs": [
    {
     "data": {
      "text/plain": [
       "RATINGS\n",
       "2.0    629\n",
       "4.0    624\n",
       "3.0    619\n",
       "5.0    598\n",
       "Name: count, dtype: int64"
      ]
     },
     "execution_count": 166,
     "metadata": {},
     "output_type": "execute_result"
    }
   ],
   "source": [
    "filename1['RATINGS'].value_counts()"
   ]
  },
  {
   "cell_type": "code",
   "execution_count": 168,
   "id": "62974946-0912-4a6c-8d88-222cc1caac9a",
   "metadata": {},
   "outputs": [
    {
     "data": {
      "text/plain": [
       "<Axes: ylabel='RATINGS'>"
      ]
     },
     "execution_count": 168,
     "metadata": {},
     "output_type": "execute_result"
    },
    {
     "data": {
      "image/png": "[encoded data removed]",
      "text/plain": [
       "<Figure size 640x480 with 1 Axes>"
      ]
     },
     "metadata": {},
     "output_type": "display_data"
    }
   ],
   "source": [
    "filename1['RATINGS'].value_counts().plot(kind ='barh')"
   ]
  },
  {
   "cell_type": "code",
   "execution_count": null,
   "id": "4fcb09f8-438a-4574-9caf-fb3005daff1b",
   "metadata": {},
   "outputs": [],
   "source": [
    "#Feature Engineering:"
   ]
  },
  {
   "cell_type": "code",
   "execution_count": 86,
   "id": "700d3869-1085-4698-b4ef-7c9fde577b18",
   "metadata": {},
   "outputs": [],
   "source": [
    "from sklearn.preprocessing import LabelEncoder\n",
    "Lable_Encoder = LabelEncoder()"
   ]
  },
  {
   "cell_type": "code",
   "execution_count": 197,
   "id": "716b61ce-bd03-4eac-be06-0c55059a113b",
   "metadata": {},
   "outputs": [],
   "source": [
    "filename1['SEX_Encode'] = Lable_Encoder.fit_transform(filename1['SEX'])"
   ]
  },
  {
   "cell_type": "code",
   "execution_count": 198,
   "id": "452fc7a1-cba8-4336-9b1d-47ba175d993d",
   "metadata": {},
   "outputs": [],
   "source": [
    "filename1['DESIGNATION_Encode'] = Lable_Encoder.fit_transform(filename1['DESIGNATION'])"
   ]
  },
  {
   "cell_type": "code",
   "execution_count": null,
   "id": "1394f60e-26c9-495a-b295-da18403a7e71",
   "metadata": {},
   "outputs": [],
   "source": []
  },
  {
   "cell_type": "code",
   "execution_count": 199,
   "id": "212cc574-068d-4564-9f97-6e748e728270",
   "metadata": {},
   "outputs": [
    {
     "data": {
      "text/html": [
       "<div>\n",
       "<style scoped>\n",
       "    .dataframe tbody tr th:only-of-type {\n",
       "        vertical-align: middle;\n",
       "    }\n",
       "\n",
       "    .dataframe tbody tr th {\n",
       "        vertical-align: top;\n",
       "    }\n",
       "\n",
       "    .dataframe thead th {\n",
       "        text-align: right;\n",
       "    }\n",
       "</style>\n",
       "<table border=\"1\" class=\"dataframe\">\n",
       "  <thead>\n",
       "    <tr style=\"text-align: right;\">\n",
       "      <th></th>\n",
       "      <th>SEX</th>\n",
       "      <th>DESIGNATION</th>\n",
       "      <th>AGE</th>\n",
       "      <th>SALARY</th>\n",
       "      <th>UNIT</th>\n",
       "      <th>LEAVES USED</th>\n",
       "      <th>LEAVES REMAINING</th>\n",
       "      <th>RATINGS</th>\n",
       "      <th>PAST EXP</th>\n",
       "      <th>SEX_Encode</th>\n",
       "      <th>DESIGNATION_Encode</th>\n",
       "    </tr>\n",
       "  </thead>\n",
       "  <tbody>\n",
       "    <tr>\n",
       "      <th>0</th>\n",
       "      <td>F</td>\n",
       "      <td>Analyst</td>\n",
       "      <td>21.0</td>\n",
       "      <td>44570</td>\n",
       "      <td>Finance</td>\n",
       "      <td>24.0</td>\n",
       "      <td>6.0</td>\n",
       "      <td>2.0</td>\n",
       "      <td>0</td>\n",
       "      <td>0</td>\n",
       "      <td>0</td>\n",
       "    </tr>\n",
       "    <tr>\n",
       "      <th>2</th>\n",
       "      <td>F</td>\n",
       "      <td>Analyst</td>\n",
       "      <td>21.0</td>\n",
       "      <td>40955</td>\n",
       "      <td>Finance</td>\n",
       "      <td>23.0</td>\n",
       "      <td>7.0</td>\n",
       "      <td>3.0</td>\n",
       "      <td>0</td>\n",
       "      <td>0</td>\n",
       "      <td>0</td>\n",
       "    </tr>\n",
       "    <tr>\n",
       "      <th>3</th>\n",
       "      <td>F</td>\n",
       "      <td>Analyst</td>\n",
       "      <td>22.0</td>\n",
       "      <td>45550</td>\n",
       "      <td>IT</td>\n",
       "      <td>22.0</td>\n",
       "      <td>8.0</td>\n",
       "      <td>3.0</td>\n",
       "      <td>0</td>\n",
       "      <td>0</td>\n",
       "      <td>0</td>\n",
       "    </tr>\n",
       "    <tr>\n",
       "      <th>5</th>\n",
       "      <td>F</td>\n",
       "      <td>Analyst</td>\n",
       "      <td>22.0</td>\n",
       "      <td>48736</td>\n",
       "      <td>Marketing</td>\n",
       "      <td>20.0</td>\n",
       "      <td>10.0</td>\n",
       "      <td>4.0</td>\n",
       "      <td>0</td>\n",
       "      <td>0</td>\n",
       "      <td>0</td>\n",
       "    </tr>\n",
       "    <tr>\n",
       "      <th>6</th>\n",
       "      <td>M</td>\n",
       "      <td>Analyst</td>\n",
       "      <td>22.0</td>\n",
       "      <td>40339</td>\n",
       "      <td>Marketing</td>\n",
       "      <td>19.0</td>\n",
       "      <td>11.0</td>\n",
       "      <td>5.0</td>\n",
       "      <td>0</td>\n",
       "      <td>1</td>\n",
       "      <td>0</td>\n",
       "    </tr>\n",
       "  </tbody>\n",
       "</table>\n",
       "</div>"
      ],
      "text/plain": [
       "  SEX DESIGNATION   AGE  SALARY       UNIT  LEAVES USED  LEAVES REMAINING  \\\n",
       "0   F     Analyst  21.0   44570    Finance         24.0               6.0   \n",
       "2   F     Analyst  21.0   40955    Finance         23.0               7.0   \n",
       "3   F     Analyst  22.0   45550         IT         22.0               8.0   \n",
       "5   F     Analyst  22.0   48736  Marketing         20.0              10.0   \n",
       "6   M     Analyst  22.0   40339  Marketing         19.0              11.0   \n",
       "\n",
       "   RATINGS  PAST EXP  SEX_Encode  DESIGNATION_Encode  \n",
       "0      2.0         0           0                   0  \n",
       "2      3.0         0           0                   0  \n",
       "3      3.0         0           0                   0  \n",
       "5      4.0         0           0                   0  \n",
       "6      5.0         0           1                   0  "
      ]
     },
     "execution_count": 199,
     "metadata": {},
     "output_type": "execute_result"
    }
   ],
   "source": [
    "filename1.head()"
   ]
  },
  {
   "cell_type": "code",
   "execution_count": 200,
   "id": "18b6a083-d5f1-47c5-8da9-ddf8db557f81",
   "metadata": {},
   "outputs": [],
   "source": [
    "from sklearn.preprocessing import StandardScaler\n",
    "std_scaler = StandardScaler()"
   ]
  },
  {
   "cell_type": "code",
   "execution_count": 210,
   "id": "1d6cf8b8-6010-4241-849e-92f26b177cdb",
   "metadata": {},
   "outputs": [],
   "source": [
    "filename1['AGE_scaled'] = std_scaler.fit_transform(filename1[['AGE']])\n",
    "filename1['PAST EXP_scaled'] = std_scaler.fit_transform(filename1[['PAST EXP']])"
   ]
  },
  {
   "cell_type": "code",
   "execution_count": 211,
   "id": "f7fbd15f-b82e-4532-a3b3-0539313e4b65",
   "metadata": {},
   "outputs": [
    {
     "data": {
      "text/html": [
       "<div>\n",
       "<style scoped>\n",
       "    .dataframe tbody tr th:only-of-type {\n",
       "        vertical-align: middle;\n",
       "    }\n",
       "\n",
       "    .dataframe tbody tr th {\n",
       "        vertical-align: top;\n",
       "    }\n",
       "\n",
       "    .dataframe thead th {\n",
       "        text-align: right;\n",
       "    }\n",
       "</style>\n",
       "<table border=\"1\" class=\"dataframe\">\n",
       "  <thead>\n",
       "    <tr style=\"text-align: right;\">\n",
       "      <th></th>\n",
       "      <th>SEX</th>\n",
       "      <th>DESIGNATION</th>\n",
       "      <th>AGE</th>\n",
       "      <th>SALARY</th>\n",
       "      <th>UNIT</th>\n",
       "      <th>LEAVES USED</th>\n",
       "      <th>LEAVES REMAINING</th>\n",
       "      <th>RATINGS</th>\n",
       "      <th>PAST EXP</th>\n",
       "      <th>SEX_Encode</th>\n",
       "      <th>DESIGNATION_Encode</th>\n",
       "      <th>AGE_scaled</th>\n",
       "      <th>PAST EXP_scaled</th>\n",
       "    </tr>\n",
       "  </thead>\n",
       "  <tbody>\n",
       "    <tr>\n",
       "      <th>0</th>\n",
       "      <td>F</td>\n",
       "      <td>Analyst</td>\n",
       "      <td>21.0</td>\n",
       "      <td>44570</td>\n",
       "      <td>Finance</td>\n",
       "      <td>24.0</td>\n",
       "      <td>6.0</td>\n",
       "      <td>2.0</td>\n",
       "      <td>0</td>\n",
       "      <td>0</td>\n",
       "      <td>0</td>\n",
       "      <td>-0.961627</td>\n",
       "      <td>-0.573302</td>\n",
       "    </tr>\n",
       "    <tr>\n",
       "      <th>2</th>\n",
       "      <td>F</td>\n",
       "      <td>Analyst</td>\n",
       "      <td>21.0</td>\n",
       "      <td>40955</td>\n",
       "      <td>Finance</td>\n",
       "      <td>23.0</td>\n",
       "      <td>7.0</td>\n",
       "      <td>3.0</td>\n",
       "      <td>0</td>\n",
       "      <td>0</td>\n",
       "      <td>0</td>\n",
       "      <td>-0.961627</td>\n",
       "      <td>-0.573302</td>\n",
       "    </tr>\n",
       "    <tr>\n",
       "      <th>3</th>\n",
       "      <td>F</td>\n",
       "      <td>Analyst</td>\n",
       "      <td>22.0</td>\n",
       "      <td>45550</td>\n",
       "      <td>IT</td>\n",
       "      <td>22.0</td>\n",
       "      <td>8.0</td>\n",
       "      <td>3.0</td>\n",
       "      <td>0</td>\n",
       "      <td>0</td>\n",
       "      <td>0</td>\n",
       "      <td>-0.705453</td>\n",
       "      <td>-0.573302</td>\n",
       "    </tr>\n",
       "    <tr>\n",
       "      <th>5</th>\n",
       "      <td>F</td>\n",
       "      <td>Analyst</td>\n",
       "      <td>22.0</td>\n",
       "      <td>48736</td>\n",
       "      <td>Marketing</td>\n",
       "      <td>20.0</td>\n",
       "      <td>10.0</td>\n",
       "      <td>4.0</td>\n",
       "      <td>0</td>\n",
       "      <td>0</td>\n",
       "      <td>0</td>\n",
       "      <td>-0.705453</td>\n",
       "      <td>-0.573302</td>\n",
       "    </tr>\n",
       "    <tr>\n",
       "      <th>6</th>\n",
       "      <td>M</td>\n",
       "      <td>Analyst</td>\n",
       "      <td>22.0</td>\n",
       "      <td>40339</td>\n",
       "      <td>Marketing</td>\n",
       "      <td>19.0</td>\n",
       "      <td>11.0</td>\n",
       "      <td>5.0</td>\n",
       "      <td>0</td>\n",
       "      <td>1</td>\n",
       "      <td>0</td>\n",
       "      <td>-0.705453</td>\n",
       "      <td>-0.573302</td>\n",
       "    </tr>\n",
       "  </tbody>\n",
       "</table>\n",
       "</div>"
      ],
      "text/plain": [
       "  SEX DESIGNATION   AGE  SALARY       UNIT  LEAVES USED  LEAVES REMAINING  \\\n",
       "0   F     Analyst  21.0   44570    Finance         24.0               6.0   \n",
       "2   F     Analyst  21.0   40955    Finance         23.0               7.0   \n",
       "3   F     Analyst  22.0   45550         IT         22.0               8.0   \n",
       "5   F     Analyst  22.0   48736  Marketing         20.0              10.0   \n",
       "6   M     Analyst  22.0   40339  Marketing         19.0              11.0   \n",
       "\n",
       "   RATINGS  PAST EXP  SEX_Encode  DESIGNATION_Encode  AGE_scaled  \\\n",
       "0      2.0         0           0                   0   -0.961627   \n",
       "2      3.0         0           0                   0   -0.961627   \n",
       "3      3.0         0           0                   0   -0.705453   \n",
       "5      4.0         0           0                   0   -0.705453   \n",
       "6      5.0         0           1                   0   -0.705453   \n",
       "\n",
       "   PAST EXP_scaled  \n",
       "0        -0.573302  \n",
       "2        -0.573302  \n",
       "3        -0.573302  \n",
       "5        -0.573302  \n",
       "6        -0.573302  "
      ]
     },
     "execution_count": 211,
     "metadata": {},
     "output_type": "execute_result"
    }
   ],
   "source": [
    "filename1.head()"
   ]
  },
  {
   "cell_type": "code",
   "execution_count": 212,
   "id": "d386756e-0cfc-4991-ac89-7c6d75fa233e",
   "metadata": {},
   "outputs": [],
   "source": [
    "x = filename1[['AGE_scaled','SEX_Encode','DESIGNATION_Encode', 'PAST EXP_scaled']]\n",
    "y = filename1['SALARY']"
   ]
  },
  {
   "cell_type": "code",
   "execution_count": 213,
   "id": "208cb5ae-dd73-43d5-9d40-103069aaf220",
   "metadata": {},
   "outputs": [
    {
     "data": {
      "text/html": [
       "<div>\n",
       "<style scoped>\n",
       "    .dataframe tbody tr th:only-of-type {\n",
       "        vertical-align: middle;\n",
       "    }\n",
       "\n",
       "    .dataframe tbody tr th {\n",
       "        vertical-align: top;\n",
       "    }\n",
       "\n",
       "    .dataframe thead th {\n",
       "        text-align: right;\n",
       "    }\n",
       "</style>\n",
       "<table border=\"1\" class=\"dataframe\">\n",
       "  <thead>\n",
       "    <tr style=\"text-align: right;\">\n",
       "      <th></th>\n",
       "      <th>AGE_scaled</th>\n",
       "      <th>SEX_Encode</th>\n",
       "      <th>DESIGNATION_Encode</th>\n",
       "      <th>PAST EXP_scaled</th>\n",
       "    </tr>\n",
       "  </thead>\n",
       "  <tbody>\n",
       "    <tr>\n",
       "      <th>0</th>\n",
       "      <td>-0.961627</td>\n",
       "      <td>0</td>\n",
       "      <td>0</td>\n",
       "      <td>-0.573302</td>\n",
       "    </tr>\n",
       "    <tr>\n",
       "      <th>2</th>\n",
       "      <td>-0.961627</td>\n",
       "      <td>0</td>\n",
       "      <td>0</td>\n",
       "      <td>-0.573302</td>\n",
       "    </tr>\n",
       "    <tr>\n",
       "      <th>3</th>\n",
       "      <td>-0.705453</td>\n",
       "      <td>0</td>\n",
       "      <td>0</td>\n",
       "      <td>-0.573302</td>\n",
       "    </tr>\n",
       "    <tr>\n",
       "      <th>5</th>\n",
       "      <td>-0.705453</td>\n",
       "      <td>0</td>\n",
       "      <td>0</td>\n",
       "      <td>-0.573302</td>\n",
       "    </tr>\n",
       "    <tr>\n",
       "      <th>6</th>\n",
       "      <td>-0.705453</td>\n",
       "      <td>1</td>\n",
       "      <td>0</td>\n",
       "      <td>-0.573302</td>\n",
       "    </tr>\n",
       "  </tbody>\n",
       "</table>\n",
       "</div>"
      ],
      "text/plain": [
       "   AGE_scaled  SEX_Encode  DESIGNATION_Encode  PAST EXP_scaled\n",
       "0   -0.961627           0                   0        -0.573302\n",
       "2   -0.961627           0                   0        -0.573302\n",
       "3   -0.705453           0                   0        -0.573302\n",
       "5   -0.705453           0                   0        -0.573302\n",
       "6   -0.705453           1                   0        -0.573302"
      ]
     },
     "execution_count": 213,
     "metadata": {},
     "output_type": "execute_result"
    }
   ],
   "source": [
    "x.head()"
   ]
  },
  {
   "cell_type": "code",
   "execution_count": 214,
   "id": "9675b919-8398-487b-95a0-db65b90ef8e5",
   "metadata": {},
   "outputs": [
    {
     "data": {
      "text/plain": [
       "0    44570\n",
       "2    40955\n",
       "3    45550\n",
       "5    48736\n",
       "6    40339\n",
       "Name: SALARY, dtype: int64"
      ]
     },
     "execution_count": 214,
     "metadata": {},
     "output_type": "execute_result"
    }
   ],
   "source": [
    "y.head()"
   ]
  },
  {
   "cell_type": "code",
   "execution_count": 215,
   "id": "f97af63f-3ade-4684-b7f4-5f3581d55970",
   "metadata": {},
   "outputs": [],
   "source": [
    "#splitting the data into traning and testing"
   ]
  },
  {
   "cell_type": "code",
   "execution_count": 216,
   "id": "8b351f41-43b0-402c-804f-eb34a98c9d08",
   "metadata": {},
   "outputs": [],
   "source": [
    "from sklearn.model_selection import train_test_split"
   ]
  },
  {
   "cell_type": "code",
   "execution_count": 221,
   "id": "c4d799f3-cc9d-4a56-bf73-a31130d5c393",
   "metadata": {},
   "outputs": [],
   "source": [
    "x_train,x_test,y_train,y_test = train_test_split(x,y,test_size = 0.2, random_state = 42)"
   ]
  },
  {
   "cell_type": "code",
   "execution_count": 241,
   "id": "afa0f1d6-bc82-4885-9039-80d26a164cb0",
   "metadata": {},
   "outputs": [
    {
     "data": {
      "text/plain": [
       "((2105, 4), (2105,))"
      ]
     },
     "execution_count": 241,
     "metadata": {},
     "output_type": "execute_result"
    }
   ],
   "source": [
    "x_train.shape, y_train.shape"
   ]
  },
  {
   "cell_type": "code",
   "execution_count": 242,
   "id": "56ed0100-a189-4769-aab4-8c344bcb6161",
   "metadata": {},
   "outputs": [
    {
     "data": {
      "text/plain": [
       "((527, 4), (527,))"
      ]
     },
     "execution_count": 242,
     "metadata": {},
     "output_type": "execute_result"
    }
   ],
   "source": [
    "x_test.shape, y_test.shape"
   ]
  },
  {
   "cell_type": "code",
   "execution_count": 231,
   "id": "ae5f0b7c-6fbd-499b-9048-34f18bba1558",
   "metadata": {},
   "outputs": [
    {
     "data": {
      "text/html": [
       "<div>\n",
       "<style scoped>\n",
       "    .dataframe tbody tr th:only-of-type {\n",
       "        vertical-align: middle;\n",
       "    }\n",
       "\n",
       "    .dataframe tbody tr th {\n",
       "        vertical-align: top;\n",
       "    }\n",
       "\n",
       "    .dataframe thead th {\n",
       "        text-align: right;\n",
       "    }\n",
       "</style>\n",
       "<table border=\"1\" class=\"dataframe\">\n",
       "  <thead>\n",
       "    <tr style=\"text-align: right;\">\n",
       "      <th></th>\n",
       "      <th>AGE_scaled</th>\n",
       "      <th>SEX_Encode</th>\n",
       "      <th>DESIGNATION_Encode</th>\n",
       "      <th>PAST EXP_scaled</th>\n",
       "    </tr>\n",
       "  </thead>\n",
       "  <tbody>\n",
       "    <tr>\n",
       "      <th>1193</th>\n",
       "      <td>-0.705453</td>\n",
       "      <td>1</td>\n",
       "      <td>0</td>\n",
       "      <td>-0.573302</td>\n",
       "    </tr>\n",
       "    <tr>\n",
       "      <th>2541</th>\n",
       "      <td>-0.193104</td>\n",
       "      <td>1</td>\n",
       "      <td>0</td>\n",
       "      <td>-0.206344</td>\n",
       "    </tr>\n",
       "    <tr>\n",
       "      <th>571</th>\n",
       "      <td>-0.449279</td>\n",
       "      <td>0</td>\n",
       "      <td>0</td>\n",
       "      <td>-0.573302</td>\n",
       "    </tr>\n",
       "    <tr>\n",
       "      <th>489</th>\n",
       "      <td>0.063070</td>\n",
       "      <td>0</td>\n",
       "      <td>0</td>\n",
       "      <td>0.160614</td>\n",
       "    </tr>\n",
       "    <tr>\n",
       "      <th>1849</th>\n",
       "      <td>0.063070</td>\n",
       "      <td>1</td>\n",
       "      <td>0</td>\n",
       "      <td>-0.206344</td>\n",
       "    </tr>\n",
       "  </tbody>\n",
       "</table>\n",
       "</div>"
      ],
      "text/plain": [
       "      AGE_scaled  SEX_Encode  DESIGNATION_Encode  PAST EXP_scaled\n",
       "1193   -0.705453           1                   0        -0.573302\n",
       "2541   -0.193104           1                   0        -0.206344\n",
       "571    -0.449279           0                   0        -0.573302\n",
       "489     0.063070           0                   0         0.160614\n",
       "1849    0.063070           1                   0        -0.206344"
      ]
     },
     "execution_count": 231,
     "metadata": {},
     "output_type": "execute_result"
    }
   ],
   "source": [
    "x_train.head()"
   ]
  },
  {
   "cell_type": "code",
   "execution_count": 232,
   "id": "1dfb1c0a-1f36-4ec2-bbba-63941b5296bc",
   "metadata": {},
   "outputs": [
    {
     "data": {
      "text/html": [
       "<div>\n",
       "<style scoped>\n",
       "    .dataframe tbody tr th:only-of-type {\n",
       "        vertical-align: middle;\n",
       "    }\n",
       "\n",
       "    .dataframe tbody tr th {\n",
       "        vertical-align: top;\n",
       "    }\n",
       "\n",
       "    .dataframe thead th {\n",
       "        text-align: right;\n",
       "    }\n",
       "</style>\n",
       "<table border=\"1\" class=\"dataframe\">\n",
       "  <thead>\n",
       "    <tr style=\"text-align: right;\">\n",
       "      <th></th>\n",
       "      <th>AGE_scaled</th>\n",
       "      <th>SEX_Encode</th>\n",
       "      <th>DESIGNATION_Encode</th>\n",
       "      <th>PAST EXP_scaled</th>\n",
       "    </tr>\n",
       "  </thead>\n",
       "  <tbody>\n",
       "    <tr>\n",
       "      <th>228</th>\n",
       "      <td>4.674210</td>\n",
       "      <td>1</td>\n",
       "      <td>2</td>\n",
       "      <td>5.664985</td>\n",
       "    </tr>\n",
       "    <tr>\n",
       "      <th>325</th>\n",
       "      <td>5.186559</td>\n",
       "      <td>0</td>\n",
       "      <td>2</td>\n",
       "      <td>6.398901</td>\n",
       "    </tr>\n",
       "    <tr>\n",
       "      <th>788</th>\n",
       "      <td>-0.449279</td>\n",
       "      <td>0</td>\n",
       "      <td>0</td>\n",
       "      <td>-0.573302</td>\n",
       "    </tr>\n",
       "    <tr>\n",
       "      <th>1453</th>\n",
       "      <td>-0.449279</td>\n",
       "      <td>0</td>\n",
       "      <td>0</td>\n",
       "      <td>-0.573302</td>\n",
       "    </tr>\n",
       "    <tr>\n",
       "      <th>1227</th>\n",
       "      <td>-0.193104</td>\n",
       "      <td>1</td>\n",
       "      <td>0</td>\n",
       "      <td>-0.573302</td>\n",
       "    </tr>\n",
       "  </tbody>\n",
       "</table>\n",
       "</div>"
      ],
      "text/plain": [
       "      AGE_scaled  SEX_Encode  DESIGNATION_Encode  PAST EXP_scaled\n",
       "228     4.674210           1                   2         5.664985\n",
       "325     5.186559           0                   2         6.398901\n",
       "788    -0.449279           0                   0        -0.573302\n",
       "1453   -0.449279           0                   0        -0.573302\n",
       "1227   -0.193104           1                   0        -0.573302"
      ]
     },
     "execution_count": 232,
     "metadata": {},
     "output_type": "execute_result"
    }
   ],
   "source": [
    "x_test.head()"
   ]
  },
  {
   "cell_type": "code",
   "execution_count": 233,
   "id": "0b925fbd-a582-4227-ae4d-dfb386d0f9ed",
   "metadata": {},
   "outputs": [],
   "source": [
    "#model development"
   ]
  },
  {
   "cell_type": "code",
   "execution_count": 236,
   "id": "7528739f-ffae-4644-ba47-b79e240451a3",
   "metadata": {},
   "outputs": [],
   "source": [
    "from sklearn.linear_model import LinearRegression"
   ]
  },
  {
   "cell_type": "code",
   "execution_count": 238,
   "id": "565318d0-2320-4d74-bc9e-46d8f9720d00",
   "metadata": {},
   "outputs": [],
   "source": [
    "Linear_regeression_model = LinearRegression()"
   ]
  },
  {
   "cell_type": "code",
   "execution_count": 239,
   "id": "276f21bd-c9b5-4085-bf37-ac550cc277b0",
   "metadata": {},
   "outputs": [],
   "source": [
    "#model training"
   ]
  },
  {
   "cell_type": "code",
   "execution_count": 240,
   "id": "1e9c5467-a469-401a-a963-14831614d7de",
   "metadata": {},
   "outputs": [
    {
     "data": {
      "text/html": [
       "<style>#sk-container-id-1 {color: black;background-color: white;}#sk-container-id-1 pre{padding: 0;}#sk-container-id-1 div.sk-toggleable {background-color: white;}#sk-container-id-1 label.sk-toggleable__label {cursor: pointer;display: block;width: 100%;margin-bottom: 0;padding: 0.3em;box-sizing: border-box;text-align: center;}#sk-container-id-1 label.sk-toggleable__label-arrow:before {content: \"▸\";float: left;margin-right: 0.25em;color: #696969;}#sk-container-id-1 label.sk-toggleable__label-arrow:hover:before {color: black;}#sk-container-id-1 div.sk-estimator:hover label.sk-toggleable__label-arrow:before {color: black;}#sk-container-id-1 div.sk-toggleable__content {max-height: 0;max-width: 0;overflow: hidden;text-align: left;background-color: #f0f8ff;}#sk-container-id-1 div.sk-toggleable__content pre {margin: 0.2em;color: black;border-radius: 0.25em;background-color: #f0f8ff;}#sk-container-id-1 input.sk-toggleable__control:checked~div.sk-toggleable__content {max-height: 200px;max-width: 100%;overflow: auto;}#sk-container-id-1 input.sk-toggleable__control:checked~label.sk-toggleable__label-arrow:before {content: \"▾\";}#sk-container-id-1 div.sk-estimator input.sk-toggleable__control:checked~label.sk-toggleable__label {background-color: #d4ebff;}#sk-container-id-1 div.sk-label input.sk-toggleable__control:checked~label.sk-toggleable__label {background-color: #d4ebff;}#sk-container-id-1 input.sk-hidden--visually {border: 0;clip: rect(1px 1px 1px 1px);clip: rect(1px, 1px, 1px, 1px);height: 1px;margin: -1px;overflow: hidden;padding: 0;position: absolute;width: 1px;}#sk-container-id-1 div.sk-estimator {font-family: monospace;background-color: #f0f8ff;border: 1px dotted black;border-radius: 0.25em;box-sizing: border-box;margin-bottom: 0.5em;}#sk-container-id-1 div.sk-estimator:hover {background-color: #d4ebff;}#sk-container-id-1 div.sk-parallel-item::after {content: \"\";width: 100%;border-bottom: 1px solid gray;flex-grow: 1;}#sk-container-id-1 div.sk-label:hover label.sk-toggleable__label {background-color: #d4ebff;}#sk-container-id-1 div.sk-serial::before {content: \"\";position: absolute;border-left: 1px solid gray;box-sizing: border-box;top: 0;bottom: 0;left: 50%;z-index: 0;}#sk-container-id-1 div.sk-serial {display: flex;flex-direction: column;align-items: center;background-color: white;padding-right: 0.2em;padding-left: 0.2em;position: relative;}#sk-container-id-1 div.sk-item {position: relative;z-index: 1;}#sk-container-id-1 div.sk-parallel {display: flex;align-items: stretch;justify-content: center;background-color: white;position: relative;}#sk-container-id-1 div.sk-item::before, #sk-container-id-1 div.sk-parallel-item::before {content: \"\";position: absolute;border-left: 1px solid gray;box-sizing: border-box;top: 0;bottom: 0;left: 50%;z-index: -1;}#sk-container-id-1 div.sk-parallel-item {display: flex;flex-direction: column;z-index: 1;position: relative;background-color: white;}#sk-container-id-1 div.sk-parallel-item:first-child::after {align-self: flex-end;width: 50%;}#sk-container-id-1 div.sk-parallel-item:last-child::after {align-self: flex-start;width: 50%;}#sk-container-id-1 div.sk-parallel-item:only-child::after {width: 0;}#sk-container-id-1 div.sk-dashed-wrapped {border: 1px dashed gray;margin: 0 0.4em 0.5em 0.4em;box-sizing: border-box;padding-bottom: 0.4em;background-color: white;}#sk-container-id-1 div.sk-label label {font-family: monospace;font-weight: bold;display: inline-block;line-height: 1.2em;}#sk-container-id-1 div.sk-label-container {text-align: center;}#sk-container-id-1 div.sk-container {/* jupyter's `normalize.less` sets `[hidden] { display: none; }` but bootstrap.min.css set `[hidden] { display: none !important; }` so we also need the `!important` here to be able to override the default hidden behavior on the sphinx rendered scikit-learn.org. See: https://github.com/scikit-learn/scikit-learn/issues/21755 */display: inline-block !important;position: relative;}#sk-container-id-1 div.sk-text-repr-fallback {display: none;}</style><div id=\"sk-container-id-1\" class=\"sk-top-container\"><div class=\"sk-text-repr-fallback\"><pre>LinearRegression()</pre><b>In a Jupyter environment, please rerun this cell to show the HTML representation or trust the notebook. <br />On GitHub, the HTML representation is unable to render, please try loading this page with nbviewer.org.</b></div><div class=\"sk-container\" hidden><div class=\"sk-item\"><div class=\"sk-estimator sk-toggleable\"><input class=\"sk-toggleable__control sk-hidden--visually\" id=\"sk-estimator-id-1\" type=\"checkbox\" checked><label for=\"sk-estimator-id-1\" class=\"sk-toggleable__label sk-toggleable__label-arrow\">LinearRegression</label><div class=\"sk-toggleable__content\"><pre>LinearRegression()</pre></div></div></div></div></div>"
      ],
      "text/plain": [
       "LinearRegression()"
      ]
     },
     "execution_count": 240,
     "metadata": {},
     "output_type": "execute_result"
    }
   ],
   "source": [
    "Linear_regeression_model.fit(x_train, y_train)"
   ]
  },
  {
   "cell_type": "code",
   "execution_count": 243,
   "id": "1e413963-9360-4852-ac01-d44dc19c8b29",
   "metadata": {},
   "outputs": [],
   "source": [
    "####Model predection"
   ]
  },
  {
   "cell_type": "code",
   "execution_count": 245,
   "id": "3da19954-b52d-479e-bc4f-bb43e959244e",
   "metadata": {},
   "outputs": [
    {
     "data": {
      "text/plain": [
       "array([224776.07226242, 245453.7235466 ,  42317.4211478 ,  42317.4211478 ,\n",
       "        46982.09392222,  52170.24376529, 152919.73320366,  55414.38150994,\n",
       "        31044.06350054,  62023.06638278,  31044.06350054,  51636.05118629,\n",
       "        35708.73627497,  61051.06033357,  35708.73627497,  47954.09997142,\n",
       "        45561.55889246,  56386.38755915,  89626.80662649,  56386.38755915,\n",
       "       106582.35377417,  45561.55889246,  31044.06350054,  62023.06638278,\n",
       "        65267.20412743,  36680.74232417,  36680.74232417,  51198.23771608,\n",
       "        60516.86775458,  31044.06350054,  72762.23145104,  31044.06350054,\n",
       "        35708.73627497,  35708.73627497,  56300.72396072,  57806.92258891,\n",
       "        35708.73627497,  52170.24376529,  36680.74232417,  51198.23771608,\n",
       "        42317.4211478 ,  30072.05745134,  46982.09392222,  31044.06350054,\n",
       "       172625.37843864, 172625.37843864,  70369.69037207,  30072.05745134,\n",
       "        89626.80662649,  35708.73627497,  31044.06350054,  41345.41509859,\n",
       "        66239.21017664,  36680.74232417, 214923.24964493,  31044.06350054,\n",
       "        35708.73627497,  35708.73627497,  50664.04513709,  31044.06350054,\n",
       "        35708.73627497, 107474.05398012,  31044.06350054,  65267.20412743,\n",
       "        36680.74232417,  78444.42095147,  52170.24376529,  51198.23771608,\n",
       "        41345.41509859,  50664.04513709,  51198.23771608,  78892.94993203,\n",
       "        69921.16139151,  35708.73627497,  61051.06033357, 145907.9806457 ,\n",
       "        52170.24376529,  51636.05118629,  51198.23771608,  35708.73627497,\n",
       "       106582.35377417,  50664.04513709,  46982.09392222,  62909.40883355,\n",
       "        61051.06033357,  93933.92239259,  46533.56494166,  65267.20412743,\n",
       "        74585.83416593,  47954.09997142,  52170.24376529, 172176.84945807,\n",
       "       107030.88275474,  30072.05745134, 149675.595459  ,  42317.4211478 ,\n",
       "        36680.74232417,  41345.41509859,  30072.05745134,  47954.09997142,\n",
       "        51636.05118629,  61051.06033357,  42317.4211478 , 124338.62915557,\n",
       "        35708.73627497,  31044.06350054,  41345.41509859,  31044.06350054,\n",
       "        73256.27110841,  30072.05745134,  91541.38131362,  30072.05745134,\n",
       "        41345.41509859,  42317.4211478 ,  57806.92258891,  81194.51903876,\n",
       "        41345.41509859,  45561.55889246,  51636.05118629,  45561.55889246,\n",
       "        36680.74232417,  61051.06033357,  51198.23771608,  35708.73627497,\n",
       "        67574.08160798, 104235.27399064,  42317.4211478 ,  30072.05745134,\n",
       "        61051.06033357,  46982.09392222,  42317.4211478 ,  35708.73627497,\n",
       "        55414.38150994,  46533.56494166,  54880.18893095,  35708.73627497,\n",
       "        36680.74232417,  55414.38150994,  35708.73627497,  65705.01759765,\n",
       "        56834.91653971,  41345.41509859,  35708.73627497,  89626.80662649,\n",
       "        36680.74232417,  65267.20412743,  31044.06350054,  98150.06618645,\n",
       "        79773.984009  ,  31044.06350054,  78444.42095147,  36680.74232417,\n",
       "        35708.73627497,  65267.20412743,  51198.23771608,  50664.04513709,\n",
       "        36680.74232417,  73256.27110841,  31044.06350054,  36680.74232417,\n",
       "        36680.74232417,  46982.09392222,  50664.04513709,  41345.41509859,\n",
       "        56386.38755915, 107030.88275474,  52170.24376529,  61051.06033357,\n",
       "        56386.38755915,  51198.23771608,  52170.24376529,  66239.21017664,\n",
       "        51198.23771608,  47954.09997142,  31044.06350054,  65267.20412743,\n",
       "        45561.55889246,  92961.91634338,  66239.21017664,  36680.74232417,\n",
       "       154340.26823342,  35708.73627497,  41345.41509859,  56834.91653971,\n",
       "        41345.41509859,  51198.23771608,  47954.09997142,  36680.74232417,\n",
       "        62023.06638278,  65267.20412743, 165613.62588068,  52170.24376529,\n",
       "        52170.24376529,  36680.74232417,  31044.06350054,  52170.24376529,\n",
       "        36680.74232417,  30072.05745134,  31044.06350054, 189086.88592896,\n",
       "        41345.41509859,  41345.41509859,  35708.73627497,  52170.24376529,\n",
       "        60516.86775458,  57806.92258891,  66239.21017664,  46533.56494166,\n",
       "        56834.91653971,  41345.41509859,  62909.40883355,  36680.74232417,\n",
       "        31044.06350054, 135611.98680282,  41345.41509859,  35708.73627497,\n",
       "        35708.73627497,  61051.06033357,  41345.41509859,  51198.23771608,\n",
       "       154869.10305724,  61051.06033357,  31044.06350054,  57272.73000992,\n",
       "        50664.04513709,  56834.91653971,  52170.24376529, 113639.56762757,\n",
       "        56386.38755915,  56834.91653971,  70369.69037207,  66153.54657821,\n",
       "       164193.09085091,  51198.23771608,  36680.74232417,  45561.55889246,\n",
       "       158153.34434216,  51636.05118629,  35708.73627497,  42317.4211478 ,\n",
       "        51198.23771608, 146436.81546952,  66153.54657821,  66239.21017664,\n",
       "        55414.38150994,  31044.06350054,  35708.73627497,  45561.55889246,\n",
       "        66239.21017664,  66239.21017664,  65267.20412743,  64733.01154844,\n",
       "        74137.30518537,  81688.55869613,  56386.38755915,  51636.05118629,\n",
       "        35708.73627497, 126287.99900915,  62023.06638278,  31044.06350054,\n",
       "       160948.95310626,  56386.38755915,  61051.06033357,  31044.06350054,\n",
       "        51198.23771608, 135163.45782226,  30072.05745134,  31044.06350054,\n",
       "        80222.51298956, 136583.99285203,  61051.06033357,  42317.4211478 ,\n",
       "        76006.3691957 ,  67574.08160798,  45561.55889246,  35708.73627497,\n",
       "        36680.74232417,  46982.09392222,  61051.06033357,  64733.01154844,\n",
       "        31044.06350054,  42317.4211478 ,  31044.06350054,  30072.05745134,\n",
       "        61488.87380378,  42317.4211478 ,  31044.06350054,  66239.21017664,\n",
       "        35708.73627497,  31044.06350054,  47954.09997142,  46533.56494166,\n",
       "        30072.05745134,  46982.09392222,  46533.56494166,  95354.45742235,\n",
       "        66153.54657821,  36680.74232417,  55414.38150994,  55414.38150994,\n",
       "        35708.73627497,  35708.73627497,  66239.21017664, 117855.71142143,\n",
       "        31044.06350054,  36680.74232417,  36680.74232417,  35708.73627497,\n",
       "        35708.73627497,  42317.4211478 , 108894.58900989, 201826.28928278,\n",
       "        88297.24356896, 200405.75425301, 145907.9806457 ,  41345.41509859,\n",
       "        30072.05745134, 132816.37803873,  31044.06350054,  62023.06638278,\n",
       "        30072.05745134, 175466.44849817,  56834.91653971,  36680.74232417,\n",
       "        31044.06350054,  30072.05745134,  30072.05745134,  31044.06350054,\n",
       "        36680.74232417,  31044.06350054,  36680.74232417,  41345.41509859,\n",
       "       187757.32287143,  46533.56494166,  50664.04513709, 116878.34761705,\n",
       "       108451.4177845 ,  35708.73627497,  41345.41509859,  55414.38150994,\n",
       "        62023.06638278,  66239.21017664,  42317.4211478 ,  45561.55889246,\n",
       "        41345.41509859,  36680.74232417,  46533.56494166,  35708.73627497,\n",
       "        36680.74232417,  83018.12175366,  31044.06350054,  30072.05745134,\n",
       "        62023.06638278,  36680.74232417,  51198.23771608,  31044.06350054,\n",
       "        31044.06350054,  62023.06638278,  36680.74232417,  35708.73627497,\n",
       "        31044.06350054,  47954.09997142,  35708.73627497,  41345.41509859,\n",
       "        52170.24376529,  85410.66283262,  56386.38755915,  52170.24376529,\n",
       "        47954.09997142,  51198.23771608,  72762.23145104,  36680.74232417,\n",
       "        66239.21017664,  41345.41509859, 102366.20998031,  35708.73627497,\n",
       "        35708.73627497,  51198.23771608,  30072.05745134,  66153.54657821,\n",
       "        76978.3752449 ,  66239.21017664,  57272.73000992,  31044.06350054,\n",
       "        56386.38755915,  56386.38755915,  55414.38150994,  42317.4211478 ,\n",
       "       193797.06938018, 113639.56762757,  35708.73627497,  62023.06638278,\n",
       "        36680.74232417,  57806.92258891,  46982.09392222, 113639.56762757,\n",
       "        42317.4211478 ,  61051.06033357,  66239.21017664,  35708.73627497,\n",
       "        42317.4211478 ,  81194.51903876,  36680.74232417,  42317.4211478 ,\n",
       "       149232.42423361,  47954.09997142,  60516.86775458,  30072.05745134,\n",
       "        51198.23771608,  81285.491011  ,  62023.06638278,  41345.41509859,\n",
       "        66239.21017664,  36680.74232417,  35708.73627497,  61051.06033357,\n",
       "        35708.73627497,  52170.24376529,  42317.4211478 ,  35708.73627497,\n",
       "        41345.41509859,  57806.92258891,  52170.24376529,  31044.06350054,\n",
       "        41345.41509859,  36680.74232417,  51198.23771608,  41345.41509859,\n",
       "        31044.06350054,  30072.05745134,  42317.4211478 ,  52170.24376529,\n",
       "        42317.4211478 ,  46533.56494166,  36680.74232417, 107030.88275474,\n",
       "        35708.73627497,  35708.73627497,  42317.4211478 ,  42317.4211478 ,\n",
       "        35708.73627497,  35708.73627497,  42317.4211478 ,  30072.05745134,\n",
       "       116883.70537222,  35708.73627497, 144044.27439055,  31044.06350054,\n",
       "        52170.24376529, 132811.02028355,  36680.74232417,  79773.984009  ,\n",
       "        47954.09997142,  35708.73627497,  35708.73627497,  35708.73627497,\n",
       "        31044.06350054,  72762.23145104,  41345.41509859,  62023.06638278,\n",
       "        35708.73627497,  42317.4211478 ,  46982.09392222,  42317.4211478 ,\n",
       "        36680.74232417,  30072.05745134,  31044.06350054, 130504.14280301,\n",
       "        36680.74232417,  45561.55889246,  42317.4211478 ,  65267.20412743,\n",
       "        45561.55889246, 125310.63520477, 176841.5222325 ,  36680.74232417,\n",
       "        51636.05118629,  35708.73627497,  61937.40278435,  35708.73627497,\n",
       "        65267.20412743,  51198.23771608,  31044.06350054,  31044.06350054,\n",
       "        31044.06350054, 121099.84916609,  55414.38150994,  42317.4211478 ,\n",
       "        30072.05745134,  51198.23771608,  36680.74232417,  36680.74232417,\n",
       "        52170.24376529,  45561.55889246,  30072.05745134,  68546.08765718,\n",
       "        30072.05745134,  35708.73627497,  59096.33272481,  52170.24376529,\n",
       "        55414.38150994,  57272.73000992,  84081.0997751 ,  56834.91653971,\n",
       "        31044.06350054,  35708.73627497,  88654.80057728,  51636.05118629,\n",
       "       168409.23464478, 122071.85521529,  42317.4211478 ,  41345.41509859,\n",
       "        31044.06350054,  35708.73627497,  74585.83416593,  80222.51298956,\n",
       "        31044.06350054, 125759.16418534,  35708.73627497,  36680.74232417,\n",
       "        67574.08160798,  65267.20412743, 107030.88275474,  36680.74232417,\n",
       "        51198.23771608,  30072.05745134,  42317.4211478 ])"
      ]
     },
     "execution_count": 245,
     "metadata": {},
     "output_type": "execute_result"
    }
   ],
   "source": [
    "y_pred_lr = Linear_regeression_model.predict(x_test)\n",
    "y_pred_lr"
   ]
  },
  {
   "cell_type": "code",
   "execution_count": 258,
   "id": "93dc076b-c514-4ed8-a83d-9c33ddaae4c2",
   "metadata": {},
   "outputs": [
    {
     "data": {
      "text/html": [
       "<div>\n",
       "<style scoped>\n",
       "    .dataframe tbody tr th:only-of-type {\n",
       "        vertical-align: middle;\n",
       "    }\n",
       "\n",
       "    .dataframe tbody tr th {\n",
       "        vertical-align: top;\n",
       "    }\n",
       "\n",
       "    .dataframe thead th {\n",
       "        text-align: right;\n",
       "    }\n",
       "</style>\n",
       "<table border=\"1\" class=\"dataframe\">\n",
       "  <thead>\n",
       "    <tr style=\"text-align: right;\">\n",
       "      <th></th>\n",
       "      <th>y_Actual</th>\n",
       "      <th>y_predicted</th>\n",
       "      <th>Error</th>\n",
       "      <th>abs_error</th>\n",
       "    </tr>\n",
       "  </thead>\n",
       "  <tbody>\n",
       "    <tr>\n",
       "      <th>228</th>\n",
       "      <td>313649</td>\n",
       "      <td>224776.072262</td>\n",
       "      <td>88872.927738</td>\n",
       "      <td>88872.927738</td>\n",
       "    </tr>\n",
       "    <tr>\n",
       "      <th>325</th>\n",
       "      <td>324783</td>\n",
       "      <td>245453.723547</td>\n",
       "      <td>79329.276453</td>\n",
       "      <td>79329.276453</td>\n",
       "    </tr>\n",
       "    <tr>\n",
       "      <th>788</th>\n",
       "      <td>40846</td>\n",
       "      <td>42317.421148</td>\n",
       "      <td>-1471.421148</td>\n",
       "      <td>1471.421148</td>\n",
       "    </tr>\n",
       "    <tr>\n",
       "      <th>1453</th>\n",
       "      <td>42455</td>\n",
       "      <td>42317.421148</td>\n",
       "      <td>137.578852</td>\n",
       "      <td>137.578852</td>\n",
       "    </tr>\n",
       "    <tr>\n",
       "      <th>1227</th>\n",
       "      <td>45278</td>\n",
       "      <td>46982.093922</td>\n",
       "      <td>-1704.093922</td>\n",
       "      <td>1704.093922</td>\n",
       "    </tr>\n",
       "    <tr>\n",
       "      <th>...</th>\n",
       "      <td>...</td>\n",
       "      <td>...</td>\n",
       "      <td>...</td>\n",
       "      <td>...</td>\n",
       "    </tr>\n",
       "    <tr>\n",
       "      <th>83</th>\n",
       "      <td>82083</td>\n",
       "      <td>107030.882755</td>\n",
       "      <td>-24947.882755</td>\n",
       "      <td>24947.882755</td>\n",
       "    </tr>\n",
       "    <tr>\n",
       "      <th>529</th>\n",
       "      <td>41819</td>\n",
       "      <td>36680.742324</td>\n",
       "      <td>5138.257676</td>\n",
       "      <td>5138.257676</td>\n",
       "    </tr>\n",
       "    <tr>\n",
       "      <th>2598</th>\n",
       "      <td>40800</td>\n",
       "      <td>51198.237716</td>\n",
       "      <td>-10398.237716</td>\n",
       "      <td>10398.237716</td>\n",
       "    </tr>\n",
       "    <tr>\n",
       "      <th>774</th>\n",
       "      <td>48343</td>\n",
       "      <td>30072.057451</td>\n",
       "      <td>18270.942549</td>\n",
       "      <td>18270.942549</td>\n",
       "    </tr>\n",
       "    <tr>\n",
       "      <th>2460</th>\n",
       "      <td>44824</td>\n",
       "      <td>42317.421148</td>\n",
       "      <td>2506.578852</td>\n",
       "      <td>2506.578852</td>\n",
       "    </tr>\n",
       "  </tbody>\n",
       "</table>\n",
       "<p>527 rows × 4 columns</p>\n",
       "</div>"
      ],
      "text/plain": [
       "      y_Actual    y_predicted         Error     abs_error\n",
       "228     313649  224776.072262  88872.927738  88872.927738\n",
       "325     324783  245453.723547  79329.276453  79329.276453\n",
       "788      40846   42317.421148  -1471.421148   1471.421148\n",
       "1453     42455   42317.421148    137.578852    137.578852\n",
       "1227     45278   46982.093922  -1704.093922   1704.093922\n",
       "...        ...            ...           ...           ...\n",
       "83       82083  107030.882755 -24947.882755  24947.882755\n",
       "529      41819   36680.742324   5138.257676   5138.257676\n",
       "2598     40800   51198.237716 -10398.237716  10398.237716\n",
       "774      48343   30072.057451  18270.942549  18270.942549\n",
       "2460     44824   42317.421148   2506.578852   2506.578852\n",
       "\n",
       "[527 rows x 4 columns]"
      ]
     },
     "execution_count": 258,
     "metadata": {},
     "output_type": "execute_result"
    }
   ],
   "source": [
    "df = pd.DataFrame({'y_Actual' :y_test, 'y_predicted' :y_pred_lr})\n",
    "df['Error'] = df['y_Actual'] - df['y_predicted']\n",
    "df['abs_error'] = abs(df['Error'])\n",
    "df"
   ]
  },
  {
   "cell_type": "code",
   "execution_count": 259,
   "id": "3468a70d-c15a-4f0b-8691-c81ee6b59bce",
   "metadata": {},
   "outputs": [
    {
     "data": {
      "text/plain": [
       "12361.86596430477"
      ]
     },
     "execution_count": 259,
     "metadata": {},
     "output_type": "execute_result"
    }
   ],
   "source": [
    "\n",
    "Mean_absolute_Error = df['abs_error'].mean()\n",
    "Mean_absolute_Error"
   ]
  },
  {
   "cell_type": "code",
   "execution_count": 261,
   "id": "6575788a-3a13-41ce-a37b-6e411f73c12d",
   "metadata": {},
   "outputs": [],
   "source": [
    "#model evaluation"
   ]
  },
  {
   "cell_type": "code",
   "execution_count": 262,
   "id": "2333f3ef-2626-4197-9078-740a90fb8a4c",
   "metadata": {},
   "outputs": [],
   "source": [
    "from sklearn.metrics import accuracy_score,r2_score\n",
    "from sklearn.metrics import mean_squared_error,mean_absolute_error"
   ]
  },
  {
   "cell_type": "code",
   "execution_count": null,
   "id": "283d15db-ad58-44fe-a890-5c6b3f1ad89e",
   "metadata": {},
   "outputs": [],
   "source": [
    "#model accuracy"
   ]
  },
  {
   "cell_type": "code",
   "execution_count": 265,
   "id": "2f23757b-2866-4aa6-b7b5-02326121b421",
   "metadata": {},
   "outputs": [
    {
     "data": {
      "text/plain": [
       "0.7896195108371267"
      ]
     },
     "execution_count": 265,
     "metadata": {},
     "output_type": "execute_result"
    }
   ],
   "source": [
    "r2_score(y_test, y_pred_lr)"
   ]
  },
  {
   "cell_type": "code",
   "execution_count": 267,
   "id": "83748966-ce9b-4c73-887a-af5d57272a30",
   "metadata": {},
   "outputs": [
    {
     "name": "stdout",
     "output_type": "stream",
     "text": [
      "Accuracy of the model = 78.96%\n"
     ]
    }
   ],
   "source": [
    "print(f'Accuracy of the model = {round(r2_score(y_test, y_pred_lr),4)*100}%')"
   ]
  },
  {
   "cell_type": "code",
   "execution_count": 268,
   "id": "8030d627-2a83-4d58-8650-34e3b649eef7",
   "metadata": {},
   "outputs": [],
   "source": [
    "#mean absolute error"
   ]
  },
  {
   "cell_type": "code",
   "execution_count": 269,
   "id": "04081ae2-ed8b-48d1-af57-7950519e4ccd",
   "metadata": {},
   "outputs": [
    {
     "data": {
      "text/plain": [
       "12361.87"
      ]
     },
     "execution_count": 269,
     "metadata": {},
     "output_type": "execute_result"
    }
   ],
   "source": [
    "round(mean_absolute_error(y_test,y_pred_lr),2)"
   ]
  },
  {
   "cell_type": "code",
   "execution_count": 270,
   "id": "59c055ff-6f31-4a42-bf28-2d7133cd114d",
   "metadata": {},
   "outputs": [
    {
     "name": "stdout",
     "output_type": "stream",
     "text": [
      "Mean Absolute Error = 12361.87\n"
     ]
    }
   ],
   "source": [
    "print(f\"Mean Absolute Error = {round(mean_absolute_error(y_test, y_pred_lr),2)}\")"
   ]
  },
  {
   "cell_type": "code",
   "execution_count": 271,
   "id": "d3690fcf-1458-4252-942b-aeb742923857",
   "metadata": {},
   "outputs": [],
   "source": [
    "#mean squared error"
   ]
  },
  {
   "cell_type": "code",
   "execution_count": 272,
   "id": "6f4b9000-93b3-4df3-84ca-87f78806b994",
   "metadata": {},
   "outputs": [
    {
     "data": {
      "text/plain": [
       "347208940.09"
      ]
     },
     "execution_count": 272,
     "metadata": {},
     "output_type": "execute_result"
    }
   ],
   "source": [
    "mse = round(mean_squared_error(y_test, y_pred_lr),2)\n",
    "mse"
   ]
  },
  {
   "cell_type": "code",
   "execution_count": 273,
   "id": "27ca59a9-e4f3-44d5-9571-43c247544155",
   "metadata": {},
   "outputs": [
    {
     "name": "stdout",
     "output_type": "stream",
     "text": [
      "Mean Sqaured Error = 347208940.09\n"
     ]
    }
   ],
   "source": [
    "print(f\"Mean Sqaured Error = {round(mean_squared_error(y_test, y_pred_lr),2)}\")"
   ]
  },
  {
   "cell_type": "code",
   "execution_count": 274,
   "id": "93c733b1-d13f-4643-a49a-24341d276451",
   "metadata": {},
   "outputs": [],
   "source": [
    "#root mean squared error"
   ]
  },
  {
   "cell_type": "code",
   "execution_count": 275,
   "id": "e03087f4-7081-45a7-8f37-8dc0626c71d1",
   "metadata": {},
   "outputs": [
    {
     "name": "stdout",
     "output_type": "stream",
     "text": [
      "Root Mean Squared Error (RMSE) =  18633.543412083487\n"
     ]
    }
   ],
   "source": [
    "print('Root Mean Squared Error (RMSE) = ', mse**(0.5))"
   ]
  },
  {
   "cell_type": "code",
   "execution_count": 276,
   "id": "0b5ec2e0-075e-4c9e-9c6d-c81806d1bafb",
   "metadata": {},
   "outputs": [],
   "source": [
    "#cofficients"
   ]
  },
  {
   "cell_type": "code",
   "execution_count": 278,
   "id": "429aa0d0-3b1c-4d46-bce4-c161f81f0be9",
   "metadata": {},
   "outputs": [
    {
     "data": {
      "text/plain": [
       "array([22003.28496009,  -972.0060492 ,  -488.68190219, 11489.44334012])"
      ]
     },
     "execution_count": 278,
     "metadata": {},
     "output_type": "execute_result"
    }
   ],
   "source": [
    "Linear_regeression_model.coef_"
   ]
  },
  {
   "cell_type": "code",
   "execution_count": 279,
   "id": "6a49c85b-fe60-4aef-ba79-638639364075",
   "metadata": {},
   "outputs": [],
   "source": [
    "#intercepts"
   ]
  },
  {
   "cell_type": "code",
   "execution_count": 280,
   "id": "e4459248-baa1-4cb5-aa2e-170802f11b82",
   "metadata": {},
   "outputs": [
    {
     "data": {
      "text/plain": [
       "58789.94878086077"
      ]
     },
     "execution_count": 280,
     "metadata": {},
     "output_type": "execute_result"
    }
   ],
   "source": [
    "Linear_regeression_model.intercept_"
   ]
  },
  {
   "cell_type": "code",
   "execution_count": 281,
   "id": "bd1bd5d0-4fb0-4412-a834-871ca15b0b35",
   "metadata": {},
   "outputs": [],
   "source": [
    "#customise predictions"
   ]
  },
  {
   "cell_type": "code",
   "execution_count": 284,
   "id": "ef25cb73-a947-46f1-808d-bbd61a5b7bcf",
   "metadata": {},
   "outputs": [
    {
     "data": {
      "text/html": [
       "<div>\n",
       "<style scoped>\n",
       "    .dataframe tbody tr th:only-of-type {\n",
       "        vertical-align: middle;\n",
       "    }\n",
       "\n",
       "    .dataframe tbody tr th {\n",
       "        vertical-align: top;\n",
       "    }\n",
       "\n",
       "    .dataframe thead th {\n",
       "        text-align: right;\n",
       "    }\n",
       "</style>\n",
       "<table border=\"1\" class=\"dataframe\">\n",
       "  <thead>\n",
       "    <tr style=\"text-align: right;\">\n",
       "      <th></th>\n",
       "      <th>SEX</th>\n",
       "      <th>DESIGNATION</th>\n",
       "      <th>AGE</th>\n",
       "      <th>SALARY</th>\n",
       "      <th>UNIT</th>\n",
       "      <th>LEAVES USED</th>\n",
       "      <th>LEAVES REMAINING</th>\n",
       "      <th>RATINGS</th>\n",
       "      <th>PAST EXP</th>\n",
       "      <th>SEX_Encode</th>\n",
       "      <th>DESIGNATION_Encode</th>\n",
       "      <th>AGE_scaled</th>\n",
       "      <th>PAST EXP_scaled</th>\n",
       "    </tr>\n",
       "  </thead>\n",
       "  <tbody>\n",
       "    <tr>\n",
       "      <th>0</th>\n",
       "      <td>F</td>\n",
       "      <td>Analyst</td>\n",
       "      <td>21.0</td>\n",
       "      <td>44570</td>\n",
       "      <td>Finance</td>\n",
       "      <td>24.0</td>\n",
       "      <td>6.0</td>\n",
       "      <td>2.0</td>\n",
       "      <td>0</td>\n",
       "      <td>0</td>\n",
       "      <td>0</td>\n",
       "      <td>-0.961627</td>\n",
       "      <td>-0.573302</td>\n",
       "    </tr>\n",
       "    <tr>\n",
       "      <th>2</th>\n",
       "      <td>F</td>\n",
       "      <td>Analyst</td>\n",
       "      <td>21.0</td>\n",
       "      <td>40955</td>\n",
       "      <td>Finance</td>\n",
       "      <td>23.0</td>\n",
       "      <td>7.0</td>\n",
       "      <td>3.0</td>\n",
       "      <td>0</td>\n",
       "      <td>0</td>\n",
       "      <td>0</td>\n",
       "      <td>-0.961627</td>\n",
       "      <td>-0.573302</td>\n",
       "    </tr>\n",
       "    <tr>\n",
       "      <th>3</th>\n",
       "      <td>F</td>\n",
       "      <td>Analyst</td>\n",
       "      <td>22.0</td>\n",
       "      <td>45550</td>\n",
       "      <td>IT</td>\n",
       "      <td>22.0</td>\n",
       "      <td>8.0</td>\n",
       "      <td>3.0</td>\n",
       "      <td>0</td>\n",
       "      <td>0</td>\n",
       "      <td>0</td>\n",
       "      <td>-0.705453</td>\n",
       "      <td>-0.573302</td>\n",
       "    </tr>\n",
       "    <tr>\n",
       "      <th>5</th>\n",
       "      <td>F</td>\n",
       "      <td>Analyst</td>\n",
       "      <td>22.0</td>\n",
       "      <td>48736</td>\n",
       "      <td>Marketing</td>\n",
       "      <td>20.0</td>\n",
       "      <td>10.0</td>\n",
       "      <td>4.0</td>\n",
       "      <td>0</td>\n",
       "      <td>0</td>\n",
       "      <td>0</td>\n",
       "      <td>-0.705453</td>\n",
       "      <td>-0.573302</td>\n",
       "    </tr>\n",
       "    <tr>\n",
       "      <th>6</th>\n",
       "      <td>M</td>\n",
       "      <td>Analyst</td>\n",
       "      <td>22.0</td>\n",
       "      <td>40339</td>\n",
       "      <td>Marketing</td>\n",
       "      <td>19.0</td>\n",
       "      <td>11.0</td>\n",
       "      <td>5.0</td>\n",
       "      <td>0</td>\n",
       "      <td>1</td>\n",
       "      <td>0</td>\n",
       "      <td>-0.705453</td>\n",
       "      <td>-0.573302</td>\n",
       "    </tr>\n",
       "  </tbody>\n",
       "</table>\n",
       "</div>"
      ],
      "text/plain": [
       "  SEX DESIGNATION   AGE  SALARY       UNIT  LEAVES USED  LEAVES REMAINING  \\\n",
       "0   F     Analyst  21.0   44570    Finance         24.0               6.0   \n",
       "2   F     Analyst  21.0   40955    Finance         23.0               7.0   \n",
       "3   F     Analyst  22.0   45550         IT         22.0               8.0   \n",
       "5   F     Analyst  22.0   48736  Marketing         20.0              10.0   \n",
       "6   M     Analyst  22.0   40339  Marketing         19.0              11.0   \n",
       "\n",
       "   RATINGS  PAST EXP  SEX_Encode  DESIGNATION_Encode  AGE_scaled  \\\n",
       "0      2.0         0           0                   0   -0.961627   \n",
       "2      3.0         0           0                   0   -0.961627   \n",
       "3      3.0         0           0                   0   -0.705453   \n",
       "5      4.0         0           0                   0   -0.705453   \n",
       "6      5.0         0           1                   0   -0.705453   \n",
       "\n",
       "   PAST EXP_scaled  \n",
       "0        -0.573302  \n",
       "2        -0.573302  \n",
       "3        -0.573302  \n",
       "5        -0.573302  \n",
       "6        -0.573302  "
      ]
     },
     "execution_count": 284,
     "metadata": {},
     "output_type": "execute_result"
    }
   ],
   "source": [
    "filename1.head()"
   ]
  },
  {
   "cell_type": "code",
   "execution_count": 322,
   "id": "5b60f0be-da35-4334-b891-9ef8868f3595",
   "metadata": {},
   "outputs": [
    {
     "name": "stderr",
     "output_type": "stream",
     "text": [
      "D:\\Anaconda python\\Lib\\site-packages\\sklearn\\base.py:439: UserWarning: X does not have valid feature names, but StandardScaler was fitted with feature names\n",
      "  warnings.warn(\n",
      "D:\\Anaconda python\\Lib\\site-packages\\sklearn\\base.py:439: UserWarning: X does not have valid feature names, but StandardScaler was fitted with feature names\n",
      "  warnings.warn(\n"
     ]
    }
   ],
   "source": [
    "AGE1 = std_scaler.transform([[25]])\n",
    "AGE = 8.60064915\t\n",
    "SEX = 0\n",
    "DESIGNATION = 1\n",
    "PASTEXP1 = std_scaler.transform([[1]])\n",
    "PASTEXP = -0.2063442"
   ]
  },
  {
   "cell_type": "code",
   "execution_count": 323,
   "id": "c154478e-316d-4c30-8e63-54c8e2ff1e79",
   "metadata": {},
   "outputs": [
    {
     "name": "stderr",
     "output_type": "stream",
     "text": [
      "D:\\Anaconda python\\Lib\\site-packages\\sklearn\\base.py:439: UserWarning: X does not have valid feature names, but StandardScaler was fitted with feature names\n",
      "  warnings.warn(\n"
     ]
    },
    {
     "data": {
      "text/plain": [
       "array([[-0.2063442]])"
      ]
     },
     "execution_count": 323,
     "metadata": {},
     "output_type": "execute_result"
    }
   ],
   "source": [
    "std_scaler.transform([[1]])"
   ]
  },
  {
   "cell_type": "code",
   "execution_count": 324,
   "id": "bc538667-e69d-4fd9-becf-28cdb7f96c21",
   "metadata": {},
   "outputs": [
    {
     "name": "stderr",
     "output_type": "stream",
     "text": [
      "D:\\Anaconda python\\Lib\\site-packages\\sklearn\\base.py:439: UserWarning: X does not have valid feature names, but LinearRegression was fitted with feature names\n",
      "  warnings.warn(\n"
     ]
    },
    {
     "data": {
      "text/plain": [
       "array([245173.02097343])"
      ]
     },
     "execution_count": 324,
     "metadata": {},
     "output_type": "execute_result"
    }
   ],
   "source": [
    "Salary = Linear_regeression_model.predict([[AGE,SEX, DESIGNATION, PASTEXP]])\n",
    "Salary"
   ]
  },
  {
   "cell_type": "code",
   "execution_count": 334,
   "id": "6f6a6e20-ada9-4a6c-b862-65f23ac14bb6",
   "metadata": {},
   "outputs": [
    {
     "name": "stdout",
     "output_type": "stream",
     "text": [
      "Salary of the Employee with above Attributes =  240473.55597509677\n"
     ]
    }
   ],
   "source": [
    "print(\"Salary of the Employee with above Attributes = \", Emp_Salary[-1])"
   ]
  },
  {
   "cell_type": "code",
   "execution_count": null,
   "id": "9aa9c365-c84c-45af-8636-566e7e6d6b17",
   "metadata": {},
   "outputs": [],
   "source": []
  }
 ],
 "metadata": {
  "kernelspec": {
   "display_name": "Python 3 (ipykernel)",
   "language": "python",
   "name": "python3"
  },
  "language_info": {
   "codemirror_mode": {
    "name": "ipython",
    "version": 3
   },
   "file_extension": ".py",
   "mimetype": "text/x-python",
   "name": "python",
   "nbconvert_exporter": "python",
   "pygments_lexer": "ipython3",
   "version": "3.11.7"
  }
 },
 "nbformat": 4,
 "nbformat_minor": 5
}
